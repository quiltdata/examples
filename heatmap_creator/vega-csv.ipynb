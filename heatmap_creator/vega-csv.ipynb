{
 "cells": [
  {
   "cell_type": "code",
   "execution_count": null,
   "id": "4810a83d-7c21-48c9-b55d-12a6de6f70f9",
   "metadata": {},
   "outputs": [],
   "source": [
    "import pandas as pd\n",
    "import altair as alt"
   ]
  },
  {
   "cell_type": "code",
   "execution_count": null,
   "id": "e566e5c1-1134-454a-8386-6cb183b4b698",
   "metadata": {},
   "outputs": [],
   "source": [
    "alt.data_transformers.disable_max_rows()"
   ]
  },
  {
   "cell_type": "code",
   "execution_count": null,
   "id": "d7665809-738d-424c-a44a-8ea7470b6320",
   "metadata": {},
   "outputs": [],
   "source": [
    "# Import the data\n",
    "df = pd.read_csv ('data2/vanden_counts.csv')"
   ]
  },
  {
   "cell_type": "code",
   "execution_count": null,
   "id": "797684ff-3ea5-4405-82d0-8b8ef3fc1d03",
   "metadata": {},
   "outputs": [],
   "source": [
    "df.head()"
   ]
  },
  {
   "cell_type": "code",
   "execution_count": null,
   "id": "35054444-5079-4573-b966-c6a8d0619c51",
   "metadata": {},
   "outputs": [],
   "source": [
    "# The subset of genes Liz is interested in\n",
    "genes = [\n",
    "    \"AHRR\", \"CD27\", \"CYP1A1\", \"MYO6\", \"SLC24A3\", \n",
    "    \"TIPARP\", \"HIC1\", \"ITGB3\", \"BEND7\", \"DLG5\", \n",
    "    \"PLXDC2\", \"PRR18\", \"RND2\", \"SHF\", \"STAP2\", \n",
    "    \"FSCN2\", \"REEP2\", \"PACSIN3\", \"SEMA6B\", \"GPR160\", \n",
    "    \"PHLDA1\", \"CYP1B1\", \"ARL4C\", \"CD93\", \"STEAP4\",\n",
    "    \"ITGA1\", \"EREG\", \"KIF5A\", \"ASB2\", \"SLC35G5\", \n",
    "    \"BIK\", \"RARRES2\", \"SFN\", \"SHISA8\", \"GRIN2D\", \n",
    "    \"SNORA5A\", \"GPR68\", \"TMPRSS9\", \"MTFR2\", \"CLNK\", \n",
    "    \"MYO7B\", \"CLCN2\", \"SHISA4\", \"SATB2\", \"ADAM11\"\n",
    "]"
   ]
  },
  {
   "cell_type": "code",
   "execution_count": null,
   "id": "a6eb2a3d-dada-4f2f-b8e0-04b1848c010c",
   "metadata": {},
   "outputs": [],
   "source": [
    "# A random subset of 45 genes not in first group\n",
    "all_genes = df['ID'].unique()\n",
    "all_genes_exclude = list(set(all_genes) - set(genes))"
   ]
  },
  {
   "cell_type": "code",
   "execution_count": null,
   "id": "db1efaa7-e034-4ead-b986-d33a29909ea0",
   "metadata": {},
   "outputs": [],
   "source": [
    "df_group_2 = df.loc[df['ID'].isin(all_genes_exclude)].sample(45)\n",
    "genes2 = df_group_2.ID.values.tolist()"
   ]
  },
  {
   "cell_type": "code",
   "execution_count": null,
   "id": "7a16e864-8bfb-47da-b6e3-ae1d23d6110c",
   "metadata": {},
   "outputs": [],
   "source": [
    "df_group_1 = df.loc[df['ID'].isin(genes)]\n",
    "df_group_2 = df.loc[df['ID'].isin(genes2)]"
   ]
  },
  {
   "cell_type": "code",
   "execution_count": null,
   "id": "9819a8df-9797-4310-8d0d-eb2f7e087009",
   "metadata": {},
   "outputs": [],
   "source": [
    "df_group_1.loc[:, 'GeneGroup'] = \"1\"\n",
    "df_group_2.loc[:, 'GeneGroup'] = \"2\""
   ]
  },
  {
   "cell_type": "code",
   "execution_count": null,
   "id": "8526d08f-dbff-456d-8cac-d6e6a7de152b",
   "metadata": {},
   "outputs": [],
   "source": [
    "df_final = pd.concat([df_group_1, df_group_2])"
   ]
  },
  {
   "cell_type": "code",
   "execution_count": null,
   "id": "06985594-1393-4359-81d6-17a5e86f1f2f",
   "metadata": {},
   "outputs": [],
   "source": [
    "# Review the data\n",
    "df_final"
   ]
  },
  {
   "cell_type": "code",
   "execution_count": null,
   "id": "663342a8-f3e9-403c-9196-b2dc85498788",
   "metadata": {},
   "outputs": [],
   "source": [
    "# \"Melt\" the data down to a single variable for heatmap\n",
    "data = df_final.melt(id_vars=['ID', 'GeneGroup'])"
   ]
  },
  {
   "cell_type": "code",
   "execution_count": null,
   "id": "7490cc19-f336-40c9-9f63-b4e5e495da70",
   "metadata": {},
   "outputs": [],
   "source": [
    "genes_dropdown = alt.binding_select(options=[\"1\", \"2\"], name=\"Gene Group: \")\n",
    "genes_select = alt.selection_single(fields=['GeneGroup'], bind=genes_dropdown)"
   ]
  },
  {
   "cell_type": "code",
   "execution_count": null,
   "id": "f575339f-617a-43a9-9e89-418740b8d4af",
   "metadata": {},
   "outputs": [],
   "source": [
    "# Generate the Altair plot\n",
    "alt.Chart(data).mark_rect().encode(\n",
    "    x = alt.X(\"variable:N\", title=\"Resection\"),\n",
    "    y = alt.Y(\"ID:N\", title=\"ID\"),\n",
    "    color = alt.Color(\"value:Q\", title=\"Value\", scale=alt.Scale(scheme='viridis')),\n",
    "    tooltip=['ID', 'variable', 'value', 'GeneGroup']\n",
    ").interactive(\n",
    ").add_selection(\n",
    "    genes_select\n",
    ").transform_filter(\n",
    "    genes_select\n",
    ")"
   ]
  },
  {
   "cell_type": "code",
   "execution_count": null,
   "id": "3a402c04-fc81-4002-8041-0fc386518d3e",
   "metadata": {},
   "outputs": [],
   "source": [
    "base.save('chart-full.json')"
   ]
  }
 ],
 "metadata": {
  "kernelspec": {
   "display_name": "Miniconda (base)",
   "language": "python",
   "name": "base"
  },
  "language_info": {
   "codemirror_mode": {
    "name": "ipython",
    "version": 3
   },
   "file_extension": ".py",
   "mimetype": "text/x-python",
   "name": "python",
   "nbconvert_exporter": "python",
   "pygments_lexer": "ipython3",
   "version": "3.9.15"
  }
 },
 "nbformat": 4,
 "nbformat_minor": 5
}
