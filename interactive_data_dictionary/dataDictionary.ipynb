{
 "cells": [
  {
   "cell_type": "code",
   "execution_count": 2,
   "id": "e20bbc3f",
   "metadata": {},
   "outputs": [],
   "source": [
    "import yaml\n",
    "\n",
    "import pandas as pd\n",
    "import quilt3 as q3\n",
    "\n",
    "from perspective import PerspectiveWidget"
   ]
  },
  {
   "cell_type": "code",
   "execution_count": 5,
   "id": "529d0b32",
   "metadata": {},
   "outputs": [],
   "source": [
    "with open(\"salesforce.yaml\", \"r\") as f:\n",
    "    salesforce = yaml.safe_load(f)\n",
    "    \n",
    "data_dict = pd.json_normalize(\n",
    "    salesforce,\n",
    "    record_path=[\"models\", \"columns\"],\n",
    "    record_prefix=\"models.columns.\",\n",
    "    meta=[[\"models\", \"name\"]]\n",
    ").drop(columns=\"models.columns.tests\")"
   ]
  },
  {
   "cell_type": "code",
   "execution_count": 6,
   "id": "04eedfd8",
   "metadata": {},
   "outputs": [
    {
     "data": {
      "application/vnd.jupyter.widget-view+json": {
       "model_id": "67563a76094e4876b7d691c744b51167",
       "version_major": 2,
       "version_minor": 0
      },
      "text/plain": [
       "PerspectiveWidget(columns=['index', 'models.columns.name', 'models.columns.description', 'models.name'])"
      ]
     },
     "metadata": {},
     "output_type": "display_data"
    }
   ],
   "source": [
    "PerspectiveWidget(data_dict)"
   ]
  }
 ],
 "metadata": {
  "kernelspec": {
   "display_name": "Python 3",
   "language": "python",
   "name": "python3"
  },
  "language_info": {
   "codemirror_mode": {
    "name": "ipython",
    "version": 3
   },
   "file_extension": ".py",
   "mimetype": "text/x-python",
   "name": "python",
   "nbconvert_exporter": "python",
   "pygments_lexer": "ipython3",
   "version": "3.7.8"
  }
 },
 "nbformat": 4,
 "nbformat_minor": 5
}
