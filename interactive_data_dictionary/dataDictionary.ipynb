{
 "cells": [
  {
   "cell_type": "code",
   "execution_count": 1,
   "id": "ae0beb4a",
   "metadata": {},
   "outputs": [],
   "source": [
    "import yaml\n",
    "\n",
    "import pandas as pd\n",
    "import quilt3 as q3\n",
    "\n",
    "from perspective import PerspectiveWidget"
   ]
  },
  {
   "cell_type": "code",
   "execution_count": 2,
   "id": "d5274dc4",
   "metadata": {},
   "outputs": [],
   "source": [
    "%%capture\n",
    "# get data but don't show user any output\n",
    "pkg = q3.Package.browse(\"examples/interactive-data-dictionary\", registry=\"s3://quilt-example\")"
   ]
  },
  {
   "cell_type": "code",
   "execution_count": 3,
   "id": "77b99ca4",
   "metadata": {},
   "outputs": [],
   "source": [
    "salesforce = yaml.safe_load(pkg[\"salesforce.yaml\"].get_bytes())\n",
    "    \n",
    "data_dict = pd.json_normalize(\n",
    "    salesforce,\n",
    "    record_path=[\"models\", \"columns\"],\n",
    "    record_prefix=\"models.columns.\",\n",
    "    meta=[[\"models\", \"name\"]]\n",
    ").drop(columns=\"models.columns.tests\")"
   ]
  },
  {
   "cell_type": "code",
   "execution_count": 4,
   "id": "705fee1a",
   "metadata": {},
   "outputs": [],
   "source": [
    "import numpy as np\n",
    "\n",
    "total = len(data_dict) + 1\n",
    "lows = np.random.normal(2, .5, size=(total//5))\n",
    "highs = np.random.normal(4, .5, size=(4*total//5))\n",
    "distro = np.append(lows, highs)\n",
    "distro = np.clip(distro, 0, 5)\n",
    "\n",
    "data_dict[\"models.columns.quality\"] = distro"
   ]
  },
  {
   "cell_type": "code",
   "execution_count": 5,
   "id": "88a6d2ca",
   "metadata": {},
   "outputs": [
    {
     "data": {
      "application/vnd.jupyter.widget-view+json": {
       "model_id": "42c72727dbee490ba5a70e1dd132cf22",
       "version_major": 2,
       "version_minor": 0
      },
      "text/plain": [
       "PerspectiveWidget(columns=['index', 'models.columns.name', 'models.columns.description', 'models.name', 'model…"
      ]
     },
     "metadata": {},
     "output_type": "display_data"
    }
   ],
   "source": [
    "PerspectiveWidget(data_dict)"
   ]
  },
  {
   "cell_type": "code",
   "execution_count": null,
   "id": "7399bdc4",
   "metadata": {},
   "outputs": [],
   "source": []
  }
 ],
 "metadata": {
  "kernelspec": {
   "display_name": "Python 3",
   "language": "python",
   "name": "python3"
  },
  "language_info": {
   "codemirror_mode": {
    "name": "ipython",
    "version": 3
   },
   "file_extension": ".py",
   "mimetype": "text/x-python",
   "name": "python",
   "nbconvert_exporter": "python",
   "pygments_lexer": "ipython3",
   "version": "3.7.8"
  }
 },
 "nbformat": 4,
 "nbformat_minor": 5
}
