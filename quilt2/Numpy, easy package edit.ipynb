{
 "cells": [
  {
   "cell_type": "code",
   "execution_count": 2,
   "metadata": {},
   "outputs": [],
   "source": [
    "import numpy as np\n",
    "import quilt"
   ]
  },
  {
   "cell_type": "code",
   "execution_count": 3,
   "metadata": {},
   "outputs": [
    {
     "name": "stdout",
     "output_type": "stream",
     "text": [
      "quilt 2.9.9 (quilt-2.9.9-py3.6)\r\n"
     ]
    }
   ],
   "source": [
    "! quilt --version"
   ]
  },
  {
   "cell_type": "code",
   "execution_count": 4,
   "metadata": {},
   "outputs": [
    {
     "data": {
      "text/plain": [
       "array([[0.50796235, 0.72446014, 0.64705993, ..., 0.16578163, 0.93632961,\n",
       "        0.02352883],\n",
       "       [0.63993245, 0.0131205 , 0.31026688, ..., 0.52303653, 0.97220315,\n",
       "        0.72239078],\n",
       "       [0.24711671, 0.77681496, 0.30995627, ..., 0.36744377, 0.14144767,\n",
       "        0.03773192],\n",
       "       ...,\n",
       "       [0.9179986 , 0.7472501 , 0.12458302, ..., 0.58349369, 0.59290197,\n",
       "        0.71303356],\n",
       "       [0.82592046, 0.18650124, 0.49129616, ..., 0.20745803, 0.48071408,\n",
       "        0.84436663],\n",
       "       [0.54000781, 0.25591457, 0.7129802 , ..., 0.72602454, 0.18306427,\n",
       "        0.29777661]])"
      ]
     },
     "execution_count": 4,
     "metadata": {},
     "output_type": "execute_result"
    }
   ],
   "source": [
    "d1 = np.random.rand(100, 100)\n",
    "d1"
   ]
  },
  {
   "cell_type": "markdown",
   "metadata": {},
   "source": [
    "# Subpackage build\n",
    "Creates a _local_ package with only the specified subpackage path changed.\n",
    "**Be sure to use your own username**, not ~~`akarve`~~"
   ]
  },
  {
   "cell_type": "code",
   "execution_count": 8,
   "metadata": {},
   "outputs": [],
   "source": [
    "quilt.build(\"akarve/labdata/d1\", d1)"
   ]
  },
  {
   "cell_type": "code",
   "execution_count": 9,
   "metadata": {},
   "outputs": [],
   "source": [
    "pkg = quilt.load(\"akarve/labdata\")"
   ]
  },
  {
   "cell_type": "code",
   "execution_count": 10,
   "metadata": {},
   "outputs": [
    {
     "data": {
      "text/plain": [
       "<PackageNode>\n",
       "d1"
      ]
     },
     "execution_count": 10,
     "metadata": {},
     "output_type": "execute_result"
    }
   ],
   "source": [
    "pkg"
   ]
  },
  {
   "cell_type": "markdown",
   "metadata": {},
   "source": [
    "# Numpy arrays are first class\n",
    "And get the same syntactic sugar as pandas dataframes"
   ]
  },
  {
   "cell_type": "code",
   "execution_count": 11,
   "metadata": {},
   "outputs": [
    {
     "data": {
      "text/plain": [
       "array([[0.50796235, 0.72446014, 0.64705993, ..., 0.16578163, 0.93632961,\n",
       "        0.02352883],\n",
       "       [0.63993245, 0.0131205 , 0.31026688, ..., 0.52303653, 0.97220315,\n",
       "        0.72239078],\n",
       "       [0.24711671, 0.77681496, 0.30995627, ..., 0.36744377, 0.14144767,\n",
       "        0.03773192],\n",
       "       ...,\n",
       "       [0.9179986 , 0.7472501 , 0.12458302, ..., 0.58349369, 0.59290197,\n",
       "        0.71303356],\n",
       "       [0.82592046, 0.18650124, 0.49129616, ..., 0.20745803, 0.48071408,\n",
       "        0.84436663],\n",
       "       [0.54000781, 0.25591457, 0.7129802 , ..., 0.72602454, 0.18306427,\n",
       "        0.29777661]])"
      ]
     },
     "execution_count": 11,
     "metadata": {},
     "output_type": "execute_result"
    }
   ],
   "source": [
    "pkg.d1()"
   ]
  },
  {
   "cell_type": "markdown",
   "metadata": {},
   "source": [
    "# Subpackage push\n",
    "We can now atomically push sub-packages such that non-overlapping subpackage pushes all end up in *the same package instance*. When pushes overlap, last write wins."
   ]
  },
  {
   "cell_type": "code",
   "execution_count": 12,
   "metadata": {},
   "outputs": [
    {
     "data": {
      "text/plain": [
       "<PackageNode>\n",
       "d1"
      ]
     },
     "execution_count": 12,
     "metadata": {},
     "output_type": "execute_result"
    }
   ],
   "source": [
    "pkg"
   ]
  },
  {
   "cell_type": "markdown",
   "metadata": {},
   "source": [
    "## Accumulate changes\n",
    "`quilt.push(\"akarve/labdata/d2\", d2)` can happen on any machine logged in as `akarve`. Note how non-overlapping changes accumulate. In this way multiple machines can contribute to the same package."
   ]
  },
  {
   "cell_type": "code",
   "execution_count": 13,
   "metadata": {},
   "outputs": [
    {
     "name": "stderr",
     "output_type": "stream",
     "text": [
      "\r",
      "  0%|          | 0.00/7.33k [00:00<?, ?B/s]"
     ]
    },
    {
     "name": "stdout",
     "output_type": "stream",
     "text": [
      "Fetching upload URLs from the registry...\n",
      "Uploading 1 fragments (7328 bytes)...\n"
     ]
    },
    {
     "name": "stderr",
     "output_type": "stream",
     "text": [
      "\r",
      "100%|██████████| 7.33k/7.33k [00:00<00:00, 8.13kB/s]"
     ]
    },
    {
     "name": "stdout",
     "output_type": "stream",
     "text": [
      "Uploading package metadata...\n",
      "Push complete. akarve/labdata/d2 is live:\n",
      "https://quiltdata.com/package/akarve/labdata\n"
     ]
    },
    {
     "name": "stderr",
     "output_type": "stream",
     "text": [
      "\n"
     ]
    }
   ],
   "source": [
    "d2 = np.random.rand(20, 45)\n",
    "quilt.build(\"akarve/labdata/d2\", d2)\n",
    "quilt.push(\"akarve/labdata/d2\")"
   ]
  },
  {
   "cell_type": "markdown",
   "metadata": {},
   "source": [
    "## Get the latest from the server\n"
   ]
  },
  {
   "cell_type": "code",
   "execution_count": 14,
   "metadata": {
    "scrolled": true
   },
   "outputs": [
    {
     "name": "stdout",
     "output_type": "stream",
     "text": [
      "Downloading package metadata...\n",
      "akarve/labdata already installed.\n",
      "Overwrite? (y/n) y\n",
      "Fragments already downloaded\n"
     ]
    },
    {
     "data": {
      "text/plain": [
       "<PackageNode>\n",
       "d1\n",
       "d2"
      ]
     },
     "execution_count": 14,
     "metadata": {},
     "output_type": "execute_result"
    }
   ],
   "source": [
    "quilt.install(\"akarve/labdata\")\n",
    "pkg = quilt.load(\"akarve/labdata\")\n",
    "pkg"
   ]
  },
  {
   "cell_type": "markdown",
   "metadata": {},
   "source": []
  },
  {
   "cell_type": "code",
   "execution_count": null,
   "metadata": {},
   "outputs": [],
   "source": []
  }
 ],
 "metadata": {
  "kernelspec": {
   "display_name": "Python 3",
   "language": "python",
   "name": "python3"
  },
  "language_info": {
   "codemirror_mode": {
    "name": "ipython",
    "version": 3
   },
   "file_extension": ".py",
   "mimetype": "text/x-python",
   "name": "python",
   "nbconvert_exporter": "python",
   "pygments_lexer": "ipython3",
   "version": "3.6.3"
  }
 },
 "nbformat": 4,
 "nbformat_minor": 2
}
