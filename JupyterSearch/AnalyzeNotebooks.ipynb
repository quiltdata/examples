{
 "cells": [
  {
   "cell_type": "markdown",
   "metadata": {},
   "source": [
    "## Extract text from notebooks\n",
    "* Just markdown and source (maybe raw?)\n",
    "* Use nbconvert to standardize version / extractions\n",
    "* Keep cells in order\n",
    "* TODO: which exceptions to catch?"
   ]
  },
  {
   "cell_type": "code",
   "execution_count": 87,
   "metadata": {},
   "outputs": [],
   "source": [
    "import nbformat\n",
    "\n",
    "NB_VERSION = 4\n",
    "\n",
    "def extract_text(notebook_str):\n",
    "    \"\"\" Extract code and markdown\n",
    "    Args:\n",
    "        * notebook_str - notebook as a string\n",
    "    Returns:\n",
    "        * str - select code and markdown source (and outputs)\n",
    "    Pre:\n",
    "        * notebook_str is well-formed per notebook version 4\n",
    "        * 'cell_type' is defined for all cells\n",
    "        * 'source' defined for all 'code' and 'markdown' cells\n",
    "    Throws:\n",
    "        * Anything nbformat.reads() can throw :( which is diverse and poorly\n",
    "        documented, hence the `except Exception` in handler()\n",
    "    Notes:\n",
    "        * Deliberately decided not to index output streams and display strings\n",
    "        because they were noisy and low value\n",
    "\n",
    "    \"\"\"\n",
    "    formatted = nbformat.reads(notebook_str, as_version=NB_VERSION)\n",
    "    text = []\n",
    "    for cell in formatted.get('cells', []):\n",
    "        if 'source' in cell and 'cell_type' in cell:\n",
    "            if cell['cell_type'] == 'code' or cell['cell_type'] == 'markdown':\n",
    "                text.append(cell['source'])\n",
    "\n",
    "    return '\\n'.join(text)"
   ]
  },
  {
   "cell_type": "markdown",
   "metadata": {},
   "source": [
    "## Gather parseable notebooks in memory\n",
    "If you have lots of notebooks or tiny amounts of RAM, use disk instead of RAM."
   ]
  },
  {
   "cell_type": "code",
   "execution_count": 181,
   "metadata": {},
   "outputs": [],
   "source": [
    "from os.path import basename\n",
    "import glob\n",
    "import traceback\n",
    "\n",
    "nbs = glob.glob(\"./esnbs/*.ipynb\")\n",
    "\n",
    "good_nbs = []\n",
    "for n in nbs:\n",
    "    with open(n, 'r') as f:\n",
    "        data = f.read()\n",
    "        try:\n",
    "            outstr = extract_text(data)\n",
    "            good_nbs.append(n)\n",
    "            fname = basename(n)\n",
    "            with open(f\"extracts/{fname}\", \"w+\") as f:\n",
    "                f.write(outstr)\n",
    "        except Exception as e:\n",
    "            print(f\"skipping {n}\")"
   ]
  },
  {
   "cell_type": "markdown",
   "metadata": {},
   "source": [
    "## Build TF matrix, IDF vector"
   ]
  },
  {
   "cell_type": "code",
   "execution_count": 89,
   "metadata": {},
   "outputs": [],
   "source": [
    "from sklearn.feature_extraction.text import TfidfVectorizer\n",
    "\n",
    "vectorizer = TfidfVectorizer(input='filename', preprocessor=extract_text)\n",
    "X = vectorizer.fit_transform(good_nbs)"
   ]
  },
  {
   "cell_type": "markdown",
   "metadata": {},
   "source": [
    "> The vectorizer's vocabulary contains all words it encountered, minus stop words"
   ]
  },
  {
   "cell_type": "markdown",
   "metadata": {},
   "source": [
    "### Peek at what vectorizer learned\n",
    "\n",
    "> Omit digit strings, since our ElasticSearch endpoint doesn't index them."
   ]
  },
  {
   "cell_type": "code",
   "execution_count": 156,
   "metadata": {},
   "outputs": [
    {
     "data": {
      "text/plain": [
       "163959"
      ]
     },
     "execution_count": 156,
     "metadata": {},
     "output_type": "execute_result"
    }
   ],
   "source": [
    "import re\n",
    "vocab = {t:i for t,i in vectorizer.vocabulary_.items() if not re.fullmatch('\\d+', t)}\n",
    "len(vocab)"
   ]
  },
  {
   "cell_type": "markdown",
   "metadata": {},
   "source": [
    "> It's a long list, so let's just peek at the first few."
   ]
  },
  {
   "cell_type": "code",
   "execution_count": 157,
   "metadata": {},
   "outputs": [
    {
     "data": {
      "text/plain": [
       "{'distance': 75735,\n",
       " 'wordList': 145416,\n",
       " 'for': 84035,\n",
       " 'dist': 75701,\n",
       " 'in': 91934,\n",
       " 'range': 120310,\n",
       " 'update': 141563,\n",
       " 'print': 117599,\n",
       " 'nextWord': 107612,\n",
       " 'None': 38144}"
      ]
     },
     "execution_count": 157,
     "metadata": {},
     "output_type": "execute_result"
    }
   ],
   "source": [
    "import itertools\n",
    "{k:v for k,v in itertools.islice(vocab.items(), 0, 10)}"
   ]
  },
  {
   "cell_type": "markdown",
   "metadata": {},
   "source": [
    "> `vocab` maps each term to an index in the `idf_` array"
   ]
  },
  {
   "cell_type": "code",
   "execution_count": 160,
   "metadata": {},
   "outputs": [
    {
     "data": {
      "text/plain": [
       "array([4.38700625, 4.4723661 , 6.89026204, 7.47804871, 6.44842929,\n",
       "       8.39433944, 9.08748662, 8.68202151, 9.08748662, 8.68202151])"
      ]
     },
     "execution_count": 160,
     "metadata": {},
     "output_type": "execute_result"
    }
   ],
   "source": [
    "idf = vectorizer.idf_\n",
    "idf[0:10]"
   ]
  },
  {
   "cell_type": "markdown",
   "metadata": {},
   "source": [
    "### Map vocabulary to IDF"
   ]
  },
  {
   "cell_type": "code",
   "execution_count": 161,
   "metadata": {},
   "outputs": [],
   "source": [
    "import pandas as pd\n",
    "\n",
    "t2idf = {t:idf[i] for t,i in vocab.items()}\n",
    "# put it in a pandas dataframe\n",
    "t2idf_ = pd.DataFrame(list(term2idf.items()), columns=['term', 'idf'])"
   ]
  },
  {
   "cell_type": "code",
   "execution_count": 162,
   "metadata": {
    "scrolled": false
   },
   "outputs": [
    {
     "data": {
      "text/html": [
       "<div>\n",
       "<style scoped>\n",
       "    .dataframe tbody tr th:only-of-type {\n",
       "        vertical-align: middle;\n",
       "    }\n",
       "\n",
       "    .dataframe tbody tr th {\n",
       "        vertical-align: top;\n",
       "    }\n",
       "\n",
       "    .dataframe thead th {\n",
       "        text-align: right;\n",
       "    }\n",
       "</style>\n",
       "<table border=\"1\" class=\"dataframe\">\n",
       "  <thead>\n",
       "    <tr style=\"text-align: right;\">\n",
       "      <th></th>\n",
       "      <th>term</th>\n",
       "      <th>idf</th>\n",
       "    </tr>\n",
       "  </thead>\n",
       "  <tbody>\n",
       "    <tr>\n",
       "      <th>0</th>\n",
       "      <td>distance</td>\n",
       "      <td>3.867131</td>\n",
       "    </tr>\n",
       "    <tr>\n",
       "      <th>1</th>\n",
       "      <td>wordList</td>\n",
       "      <td>8.394339</td>\n",
       "    </tr>\n",
       "    <tr>\n",
       "      <th>2</th>\n",
       "      <td>for</td>\n",
       "      <td>1.230780</td>\n",
       "    </tr>\n",
       "    <tr>\n",
       "      <th>3</th>\n",
       "      <td>dist</td>\n",
       "      <td>4.769999</td>\n",
       "    </tr>\n",
       "    <tr>\n",
       "      <th>4</th>\n",
       "      <td>in</td>\n",
       "      <td>1.209142</td>\n",
       "    </tr>\n",
       "  </tbody>\n",
       "</table>\n",
       "</div>"
      ],
      "text/plain": [
       "       term       idf\n",
       "0  distance  3.867131\n",
       "1  wordList  8.394339\n",
       "2       for  1.230780\n",
       "3      dist  4.769999\n",
       "4        in  1.209142"
      ]
     },
     "execution_count": 162,
     "metadata": {},
     "output_type": "execute_result"
    }
   ],
   "source": [
    "t2idf_.head()"
   ]
  },
  {
   "cell_type": "code",
   "execution_count": 163,
   "metadata": {},
   "outputs": [],
   "source": [
    "asc_idf = t2idf_.sort_values('idf')"
   ]
  },
  {
   "cell_type": "markdown",
   "metadata": {},
   "source": [
    "### Terms with low IDF\n",
    "Are super common, present in almost all docs"
   ]
  },
  {
   "cell_type": "code",
   "execution_count": 164,
   "metadata": {
    "scrolled": true
   },
   "outputs": [
    {
     "data": {
      "text/html": [
       "<div>\n",
       "<style scoped>\n",
       "    .dataframe tbody tr th:only-of-type {\n",
       "        vertical-align: middle;\n",
       "    }\n",
       "\n",
       "    .dataframe tbody tr th {\n",
       "        vertical-align: top;\n",
       "    }\n",
       "\n",
       "    .dataframe thead th {\n",
       "        text-align: right;\n",
       "    }\n",
       "</style>\n",
       "<table border=\"1\" class=\"dataframe\">\n",
       "  <thead>\n",
       "    <tr style=\"text-align: right;\">\n",
       "      <th></th>\n",
       "      <th>term</th>\n",
       "      <th>idf</th>\n",
       "    </tr>\n",
       "  </thead>\n",
       "  <tbody>\n",
       "    <tr>\n",
       "      <th>94</th>\n",
       "      <td>import</td>\n",
       "      <td>1.135223</td>\n",
       "    </tr>\n",
       "    <tr>\n",
       "      <th>56</th>\n",
       "      <td>as</td>\n",
       "      <td>1.175613</td>\n",
       "    </tr>\n",
       "    <tr>\n",
       "      <th>4</th>\n",
       "      <td>in</td>\n",
       "      <td>1.209142</td>\n",
       "    </tr>\n",
       "    <tr>\n",
       "      <th>2</th>\n",
       "      <td>for</td>\n",
       "      <td>1.230780</td>\n",
       "    </tr>\n",
       "    <tr>\n",
       "      <th>35</th>\n",
       "      <td>from</td>\n",
       "      <td>1.253688</td>\n",
       "    </tr>\n",
       "    <tr>\n",
       "      <th>7</th>\n",
       "      <td>print</td>\n",
       "      <td>1.425960</td>\n",
       "    </tr>\n",
       "    <tr>\n",
       "      <th>30</th>\n",
       "      <td>and</td>\n",
       "      <td>1.461892</td>\n",
       "    </tr>\n",
       "    <tr>\n",
       "      <th>25</th>\n",
       "      <td>the</td>\n",
       "      <td>1.465312</td>\n",
       "    </tr>\n",
       "    <tr>\n",
       "      <th>128</th>\n",
       "      <td>data</td>\n",
       "      <td>1.491848</td>\n",
       "    </tr>\n",
       "    <tr>\n",
       "      <th>120</th>\n",
       "      <td>of</td>\n",
       "      <td>1.500683</td>\n",
       "    </tr>\n",
       "  </tbody>\n",
       "</table>\n",
       "</div>"
      ],
      "text/plain": [
       "       term       idf\n",
       "94   import  1.135223\n",
       "56       as  1.175613\n",
       "4        in  1.209142\n",
       "2       for  1.230780\n",
       "35     from  1.253688\n",
       "7     print  1.425960\n",
       "30      and  1.461892\n",
       "25      the  1.465312\n",
       "128    data  1.491848\n",
       "120      of  1.500683"
      ]
     },
     "execution_count": 164,
     "metadata": {},
     "output_type": "execute_result"
    }
   ],
   "source": [
    "asc_idf.head(10)"
   ]
  },
  {
   "cell_type": "markdown",
   "metadata": {},
   "source": [
    "### Terms with high IDF\n",
    "Are idiosynchractic; unique to a single doc"
   ]
  },
  {
   "cell_type": "code",
   "execution_count": 188,
   "metadata": {
    "scrolled": true
   },
   "outputs": [
    {
     "data": {
      "text/html": [
       "<div>\n",
       "<style scoped>\n",
       "    .dataframe tbody tr th:only-of-type {\n",
       "        vertical-align: middle;\n",
       "    }\n",
       "\n",
       "    .dataframe tbody tr th {\n",
       "        vertical-align: top;\n",
       "    }\n",
       "\n",
       "    .dataframe thead th {\n",
       "        text-align: right;\n",
       "    }\n",
       "</style>\n",
       "<table border=\"1\" class=\"dataframe\">\n",
       "  <thead>\n",
       "    <tr style=\"text-align: right;\">\n",
       "      <th></th>\n",
       "      <th>term</th>\n",
       "      <th>idf</th>\n",
       "    </tr>\n",
       "  </thead>\n",
       "  <tbody>\n",
       "    <tr>\n",
       "      <th>114334</th>\n",
       "      <td>Gleicher</td>\n",
       "      <td>9.087487</td>\n",
       "    </tr>\n",
       "    <tr>\n",
       "      <th>114333</th>\n",
       "      <td>gebrauch</td>\n",
       "      <td>9.087487</td>\n",
       "    </tr>\n",
       "    <tr>\n",
       "      <th>114332</th>\n",
       "      <td>Integrierender</td>\n",
       "      <td>9.087487</td>\n",
       "    </tr>\n",
       "    <tr>\n",
       "      <th>114329</th>\n",
       "      <td>nsm</td>\n",
       "      <td>9.087487</td>\n",
       "    </tr>\n",
       "    <tr>\n",
       "      <th>114328</th>\n",
       "      <td>Linksorthokomplemet</td>\n",
       "      <td>9.087487</td>\n",
       "    </tr>\n",
       "    <tr>\n",
       "      <th>114326</th>\n",
       "      <td>aq2</td>\n",
       "      <td>9.087487</td>\n",
       "    </tr>\n",
       "    <tr>\n",
       "      <th>114325</th>\n",
       "      <td>aq1</td>\n",
       "      <td>9.087487</td>\n",
       "    </tr>\n",
       "    <tr>\n",
       "      <th>114323</th>\n",
       "      <td>Funktionen</td>\n",
       "      <td>9.087487</td>\n",
       "    </tr>\n",
       "    <tr>\n",
       "      <th>114335</th>\n",
       "      <td>Ansazu</td>\n",
       "      <td>9.087487</td>\n",
       "    </tr>\n",
       "    <tr>\n",
       "      <th>177051</th>\n",
       "      <td>VeraCrio13</td>\n",
       "      <td>9.087487</td>\n",
       "    </tr>\n",
       "  </tbody>\n",
       "</table>\n",
       "</div>"
      ],
      "text/plain": [
       "                       term       idf\n",
       "114334             Gleicher  9.087487\n",
       "114333             gebrauch  9.087487\n",
       "114332       Integrierender  9.087487\n",
       "114329                  nsm  9.087487\n",
       "114328  Linksorthokomplemet  9.087487\n",
       "114326                  aq2  9.087487\n",
       "114325                  aq1  9.087487\n",
       "114323           Funktionen  9.087487\n",
       "114335               Ansazu  9.087487\n",
       "177051           VeraCrio13  9.087487"
      ]
     },
     "execution_count": 188,
     "metadata": {},
     "output_type": "execute_result"
    }
   ],
   "source": [
    "asc_idf.tail(10)"
   ]
  },
  {
   "cell_type": "markdown",
   "metadata": {},
   "source": [
    "### See how IDFs are distributed"
   ]
  },
  {
   "cell_type": "code",
   "execution_count": 166,
   "metadata": {},
   "outputs": [
    {
     "data": {
      "text/plain": [
       "array([[<matplotlib.axes._subplots.AxesSubplot object at 0x7f77cf925e80>]],\n",
       "      dtype=object)"
      ]
     },
     "execution_count": 166,
     "metadata": {},
     "output_type": "execute_result"
    },
    {
     "data": {
      "image/png": "[encoded data removed]",
      "text/plain": [
       "<Figure size 432x288 with 1 Axes>"
      ]
     },
     "metadata": {},
     "output_type": "display_data"
    }
   ],
   "source": [
    "%matplotlib inline\n",
    "asc_idf.hist(column='idf', bins=10)"
   ]
  },
  {
   "cell_type": "markdown",
   "metadata": {},
   "source": [
    "### Grab 10 terms from each decile"
   ]
  },
  {
   "cell_type": "code",
   "execution_count": 179,
   "metadata": {},
   "outputs": [],
   "source": [
    "import math\n",
    "import numpy as np\n",
    "import pickle\n",
    "\n",
    "# flip the vocab so we can look up terms by index\n",
    "i2t = {t:i for i,t in vocab.items()}\n",
    "# sort by idf; only take terms in vocabulary\n",
    "ascending_i = [i for i in np.argsort(idf) if i in i2t]\n",
    "\n",
    "decile_size = math.floor(len(vocab) * .1)\n",
    "\n",
    "decile_sample = {}\n",
    "for d in range(0, 10):\n",
    "    decile = ascending_i[decile_size * d: decile_size * (d+1)]\n",
    "    random_i = np.random.choice(decile, 10, replace=False)\n",
    "    decile_sample[d] = {i2t[j]:idf[j] for j in random_i}\n",
    "\n",
    "with open(\"./dec_sample.pkl\", 'wb') as f:\n",
    "    pickle.dump(decile_sample, f)"
   ]
  },
  {
   "cell_type": "code",
   "execution_count": 180,
   "metadata": {},
   "outputs": [
    {
     "data": {
      "text/plain": [
       "{0: {'methods': 3.586228408390312,\n",
       "  'resulting': 4.424047524822972,\n",
       "  'basin': 6.22528573800557,\n",
       "  'OSError': 7.295727149706984,\n",
       "  'Sal': 7.072583598392774,\n",
       "  'MAE': 6.602579969147039,\n",
       "  'traverse': 7.008045077255203,\n",
       "  'Independent': 6.645139583565834,\n",
       "  'модель': 5.888813501384357,\n",
       "  'processed': 5.621750716135312},\n",
       " 1: {'zero_with_resv': 7.8347236504396705,\n",
       "  'discount_factor': 7.988874330266929,\n",
       "  'scale_color_brewer': 7.701192257815148,\n",
       "  'nonzeroy': 7.478048706500939,\n",
       "  'Пока': 7.583409222158765,\n",
       "  'contemporary': 7.701192257815148,\n",
       "  'train_lgb': 7.8347236504396705,\n",
       "  'unlearned': 7.8347236504396705,\n",
       "  'firstnum': 7.478048706500939,\n",
       "  'Suspects': 7.988874330266929},\n",
       " 2: {'Gott': 8.171195887060883,\n",
       "  'occupants': 8.394339438375093,\n",
       "  'dirpath': 8.171195887060883,\n",
       "  'Remarque': 8.171195887060883,\n",
       "  'set_next': 8.394339438375093,\n",
       "  'delta_price1': 8.394339438375093,\n",
       "  'numRows此圖合併了幾行': 8.171195887060883,\n",
       "  'wordCountsGrouped': 8.171195887060883,\n",
       "  'vocab_dict': 8.394339438375093,\n",
       "  'min_list_1': 8.394339438375093},\n",
       " 3: {'feature_all_utilities_included': 8.682021510826875,\n",
       "  'recomendável': 8.682021510826875,\n",
       "  'dg': 8.682021510826875,\n",
       "  'ewma_200': 8.682021510826875,\n",
       "  'y2max': 8.394339438375093,\n",
       "  'mightbe': 8.682021510826875,\n",
       "  'epoch_n': 8.682021510826875,\n",
       "  'get_flight_instance_index': 8.682021510826875,\n",
       "  'test_sentences_all': 8.682021510826875,\n",
       "  'visualizarmos': 8.682021510826875},\n",
       " 4: {'d4JSvHP': 8.682021510826875,\n",
       "  '簡略な方法': 8.682021510826875,\n",
       "  'MYO1A': 8.682021510826875,\n",
       "  'cap20': 8.682021510826875,\n",
       "  '4cP': 8.682021510826875,\n",
       "  'Squater': 8.682021510826875,\n",
       "  'Ergänzungsmatrix': 8.682021510826875,\n",
       "  '2619e': 8.682021510826875,\n",
       "  'IAP': 8.682021510826875,\n",
       "  'Bertschinger': 8.682021510826875},\n",
       " 5: {'每个子分类器都会对一个样本给出一个预测结果': 9.087486618935039,\n",
       "  'selection_numbers': 9.087486618935039,\n",
       "  'sel_train': 9.087486618935039,\n",
       "  '默认值为0': 9.087486618935039,\n",
       "  '비교해볼때': 9.087486618935039,\n",
       "  '맥락이': 9.087486618935039,\n",
       "  '들어갈수': 9.087486618935039,\n",
       "  '熔点': 9.087486618935039,\n",
       "  'amp_t': 8.682021510826875,\n",
       "  'set_y': 9.087486618935039},\n",
       " 6: {'취약한': 9.087486618935039,\n",
       "  'zillowstatic': 9.087486618935039,\n",
       "  'стадии': 9.087486618935039,\n",
       "  'продолжительность': 9.087486618935039,\n",
       "  'Number_of_Neurons': 9.087486618935039,\n",
       "  'ufo48': 9.087486618935039,\n",
       "  'факторизационными': 9.087486618935039,\n",
       "  '去均值算方差': 9.087486618935039,\n",
       "  'slider2': 9.087486618935039,\n",
       "  'u6': 9.087486618935039},\n",
       " 7: {'PARTICIPACION_8b_RBD': 9.087486618935039,\n",
       "  '_nclasses': 9.087486618935039,\n",
       "  'Scorpius': 9.087486618935039,\n",
       "  'ELECTRICIAN': 9.087486618935039,\n",
       "  'Tourney': 9.087486618935039,\n",
       "  'RNNCell': 9.087486618935039,\n",
       "  'arrivalTime': 9.087486618935039,\n",
       "  '2levels': 9.087486618935039,\n",
       "  'R_data_2': 9.087486618935039,\n",
       "  '_complexstuff': 9.087486618935039},\n",
       " 8: {'path_to_movies': 9.087486618935039,\n",
       "  'nmf_song_topics': 9.087486618935039,\n",
       "  'lear_decay': 9.087486618935039,\n",
       "  'possible_actions': 9.087486618935039,\n",
       "  'CHARGEAMOUNT3': 9.087486618935039,\n",
       "  'pred_positives': 9.087486618935039,\n",
       "  'misapplied': 9.087486618935039,\n",
       "  'madre': 9.087486618935039,\n",
       "  'last_year': 9.087486618935039,\n",
       "  'mydb': 9.087486618935039},\n",
       " 9: {'div_by_5': 9.087486618935039,\n",
       "  'flippedDCMS': 9.087486618935039,\n",
       "  'file_finished': 9.087486618935039,\n",
       "  'createvm': 9.087486618935039,\n",
       "  'new_days': 9.087486618935039,\n",
       "  'hovercolor': 9.087486618935039,\n",
       "  'candle_per_day': 9.087486618935039,\n",
       "  'diff_num_no_iit_rates_low_MI': 9.087486618935039,\n",
       "  'beware': 9.087486618935039,\n",
       "  'df_distances': 9.087486618935039}}"
      ]
     },
     "execution_count": 180,
     "metadata": {},
     "output_type": "execute_result"
    }
   ],
   "source": [
    "decile_sample"
   ]
  },
  {
   "cell_type": "markdown",
   "metadata": {},
   "source": [
    "> Neat. Good mix of languages (Russian, Chinese, English, German), numbers, variables, plain text."
   ]
  },
  {
   "cell_type": "code",
   "execution_count": null,
   "metadata": {},
   "outputs": [],
   "source": []
  }
 ],
 "metadata": {
  "kernelspec": {
   "display_name": "Python 3",
   "language": "python",
   "name": "python3"
  },
  "language_info": {
   "codemirror_mode": {
    "name": "ipython",
    "version": 3
   },
   "file_extension": ".py",
   "mimetype": "text/x-python",
   "name": "python",
   "nbconvert_exporter": "python",
   "pygments_lexer": "ipython3",
   "version": "3.6.7"
  }
 },
 "nbformat": 4,
 "nbformat_minor": 2
}
