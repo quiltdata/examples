{
 "cells": [
  {
   "cell_type": "markdown",
   "metadata": {},
   "source": [
    "# Shallow copy\n",
    "How do I add a few files to a large package without copying the original files (just copying my new files)?"
   ]
  },
  {
   "cell_type": "code",
   "execution_count": null,
   "metadata": {},
   "outputs": [],
   "source": [
    "import quilt3 as q3"
   ]
  },
  {
   "cell_type": "code",
   "execution_count": null,
   "metadata": {},
   "outputs": [],
   "source": [
    "p1 = q3.Package.browse(\"screen_data/aneesh-test-run\", registry=\"s3://quilt-bio-instrument\")"
   ]
  },
  {
   "cell_type": "code",
   "execution_count": null,
   "metadata": {},
   "outputs": [],
   "source": [
    "!mkdir analysis"
   ]
  },
  {
   "cell_type": "code",
   "execution_count": null,
   "metadata": {},
   "outputs": [],
   "source": [
    "!touch analysis/foo.csv\n",
    "!touch analysis/bar.tsv"
   ]
  },
  {
   "cell_type": "code",
   "execution_count": null,
   "metadata": {},
   "outputs": [],
   "source": [
    "# add a local directory to the package\n",
    "p1.set_dir(\"analysis\", \"./analysis\")"
   ]
  },
  {
   "cell_type": "code",
   "execution_count": null,
   "metadata": {},
   "outputs": [],
   "source": [
    "p1.push(\n",
    "    \"akarve/selector-demo\",\n",
    "    registry=\"s3://quilt-t4-staging\",\n",
    "    # only deep copy files in the \"analysis folder\"; everything else stays where it is\n",
    "    selector_fn=lambda l,e: True if l.startswith(\"analysis/\") else False,\n",
    "    message=\"demo selector_fn=\"\n",
    ")"
   ]
  },
  {
   "cell_type": "markdown",
   "metadata": {},
   "source": [
    "## Under the hood\n",
    "Quilt deep copies analysis/* and reuses the original locations for everything else. Here is a simplified Quilt manifest:\n",
    "\n",
    "```json\n",
    "{\"version\": \"v0\", \"user_meta\": {\"notebook_id\": \"EXP21000539\"}, \"message\": \"demo selector_fn=\"}\n",
    "{\"logical_key\": \"analysis/bar.tsv\", \"physical_keys\": [\"s3://quilt-t4-staging/akarve/selector-demo/analysis/bar.tsv\"]}\n",
    "{\"logical_key\": \"analysis/foo.csv\", \"physical_keys\": [\"s3://quilt-t4-staging/akarve/selector-demo/analysis/foo.csv\"]}\n",
    "{\"logical_key\": \"data/raw/100.fastq.gz\", \"physical_keys\": [\"s3://quilt-bio-instrument/screen_data/aneesh-test-run/data/raw/100_S100_L001_R1_001.fastq.gz\"]}\n",
    "...\n",
    "```"
   ]
  },
  {
   "cell_type": "code",
   "execution_count": null,
   "metadata": {},
   "outputs": [],
   "source": []
  }
 ],
 "metadata": {
  "kernelspec": {
   "display_name": "Python 3",
   "language": "python",
   "name": "python3"
  },
  "language_info": {
   "codemirror_mode": {
    "name": "ipython",
    "version": 3
   },
   "file_extension": ".py",
   "mimetype": "text/x-python",
   "name": "python",
   "nbconvert_exporter": "python",
   "pygments_lexer": "ipython3",
   "version": "3.7.8"
  }
 },
 "nbformat": 4,
 "nbformat_minor": 2
}
