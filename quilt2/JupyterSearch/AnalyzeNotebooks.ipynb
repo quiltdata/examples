{
 "cells": [
  {
   "cell_type": "markdown",
   "metadata": {},
   "source": [
    "## Extract text from notebooks\n",
    "* Just markdown and source (maybe raw?)\n",
    "* Use nbconvert to standardize version / extractions\n",
    "* Keep cells in order\n",
    "* TODO: which exceptions to catch?"
   ]
  },
  {
   "cell_type": "code",
   "execution_count": 2,
   "metadata": {},
   "outputs": [],
   "source": [
    "import nbformat\n",
    "\n",
    "NB_VERSION = 4\n",
    "\n",
    "def extract_text(notebook_str):\n",
    "    \"\"\" Extract code and markdown\n",
    "    Args:\n",
    "        * notebook_str - notebook as a string\n",
    "    Returns:\n",
    "        * str - select code and markdown source (and outputs)\n",
    "    Pre:\n",
    "        * notebook_str is well-formed per notebook version 4\n",
    "        * 'cell_type' is defined for all cells\n",
    "        * 'source' defined for all 'code' and 'markdown' cells\n",
    "    Throws:\n",
    "        * Anything nbformat.reads() can throw :( which is diverse and poorly\n",
    "        documented, hence the `except Exception` in handler()\n",
    "    Notes:\n",
    "        * Deliberately decided not to index output streams and display strings\n",
    "        because they were noisy and low value\n",
    "\n",
    "    \"\"\"\n",
    "    formatted = nbformat.reads(notebook_str, as_version=NB_VERSION)\n",
    "    text = []\n",
    "    for cell in formatted.get('cells', []):\n",
    "        if 'source' in cell and 'cell_type' in cell:\n",
    "            if cell['cell_type'] == 'code' or cell['cell_type'] == 'markdown':\n",
    "                text.append(cell['source'])\n",
    "\n",
    "    return '\\n'.join(text)"
   ]
  },
  {
   "cell_type": "markdown",
   "metadata": {},
   "source": [
    "## Gather parseable notebooks in memory\n",
    "If you have lots of notebooks or tiny amounts of RAM, use disk instead of RAM."
   ]
  },
  {
   "cell_type": "code",
   "execution_count": null,
   "metadata": {},
   "outputs": [],
   "source": [
    "from os.path import basename\n",
    "import glob\n",
    "import traceback\n",
    "\n",
    "nbs = glob.glob(\"/Users/karve/Desktop/tmpnbs/*.ipynb\")\n",
    "\n",
    "good_nbs = []\n",
    "for n in nbs:\n",
    "    with open(n, 'r') as f:\n",
    "        data = f.read()\n",
    "        try:\n",
    "            outstr = extract_text(data)\n",
    "            good_nbs.append(n)\n",
    "            fname = basename(n)\n",
    "            with open(f\"extracts/{fname}\", \"w+\") as f:\n",
    "                f.write(outstr)\n",
    "        except Exception as e:\n",
    "            print(f\"skipping {n}\")"
   ]
  },
  {
   "cell_type": "markdown",
   "metadata": {},
   "source": [
    "## Build TF matrix, IDF vector"
   ]
  },
  {
   "cell_type": "code",
   "execution_count": 9,
   "metadata": {},
   "outputs": [],
   "source": [
    "from sklearn.feature_extraction.text import TfidfVectorizer\n",
    "\n",
    "vectorizer = TfidfVectorizer(input='filename', preprocessor=extract_text)\n",
    "X = vectorizer.fit_transform(good_nbs)"
   ]
  },
  {
   "cell_type": "markdown",
   "metadata": {},
   "source": [
    "> The vectorizer's vocabulary contains all words it encountered, minus stop words"
   ]
  },
  {
   "cell_type": "markdown",
   "metadata": {},
   "source": [
    "### Peek at what vectorizer learned\n",
    "\n",
    "> Omit digit strings, since our ElasticSearch endpoint doesn't index them."
   ]
  },
  {
   "cell_type": "code",
   "execution_count": 10,
   "metadata": {},
   "outputs": [
    {
     "data": {
      "text/plain": [
       "163959"
      ]
     },
     "execution_count": 10,
     "metadata": {},
     "output_type": "execute_result"
    }
   ],
   "source": [
    "import re\n",
    "vocab = {t:i for t,i in vectorizer.vocabulary_.items() if not re.fullmatch('\\d+', t)}\n",
    "len(vocab)"
   ]
  },
  {
   "cell_type": "markdown",
   "metadata": {},
   "source": [
    "> It's a long list, so let's just peek at the first few."
   ]
  },
  {
   "cell_type": "code",
   "execution_count": 11,
   "metadata": {},
   "outputs": [
    {
     "data": {
      "text/plain": [
       "{'Capstone': 21871,\n",
       " 'Project': 41371,\n",
       " 'Introduction': 32328,\n",
       " 'Part': 40148,\n",
       " 'Having': 30608,\n",
       " 'experimented': 80550,\n",
       " 'with': 145227,\n",
       " 'the': 136390,\n",
       " 'NLTK': 37455,\n",
       " 'library': 98219}"
      ]
     },
     "execution_count": 11,
     "metadata": {},
     "output_type": "execute_result"
    }
   ],
   "source": [
    "import itertools\n",
    "{k:v for k,v in itertools.islice(vocab.items(), 0, 10)}"
   ]
  },
  {
   "cell_type": "markdown",
   "metadata": {},
   "source": [
    "> `vocab` maps each term to an index in the `idf_` array"
   ]
  },
  {
   "cell_type": "code",
   "execution_count": 15,
   "metadata": {},
   "outputs": [
    {
     "data": {
      "text/plain": [
       "array([4.38700625, 4.4723661 , 6.89026204, 7.47804871, 6.44842929,\n",
       "       8.39433944, 9.08748662, 8.68202151, 9.08748662, 8.68202151])"
      ]
     },
     "execution_count": 15,
     "metadata": {},
     "output_type": "execute_result"
    }
   ],
   "source": [
    "idf = vectorizer.idf_\n",
    "idf[0:10]"
   ]
  },
  {
   "cell_type": "markdown",
   "metadata": {},
   "source": [
    "### Map vocabulary to IDF"
   ]
  },
  {
   "cell_type": "code",
   "execution_count": 17,
   "metadata": {},
   "outputs": [],
   "source": [
    "import pandas as pd\n",
    "\n",
    "t2idf = {t:idf[i] for t,i in vocab.items()}\n",
    "# put it in a pandas dataframe\n",
    "t2idf_ = pd.DataFrame(list(t2idf.items()), columns=['term', 'idf'])"
   ]
  },
  {
   "cell_type": "code",
   "execution_count": 18,
   "metadata": {
    "scrolled": false
   },
   "outputs": [
    {
     "data": {
      "text/html": [
       "<div>\n",
       "<style scoped>\n",
       "    .dataframe tbody tr th:only-of-type {\n",
       "        vertical-align: middle;\n",
       "    }\n",
       "\n",
       "    .dataframe tbody tr th {\n",
       "        vertical-align: top;\n",
       "    }\n",
       "\n",
       "    .dataframe thead th {\n",
       "        text-align: right;\n",
       "    }\n",
       "</style>\n",
       "<table border=\"1\" class=\"dataframe\">\n",
       "  <thead>\n",
       "    <tr style=\"text-align: right;\">\n",
       "      <th></th>\n",
       "      <th>term</th>\n",
       "      <th>idf</th>\n",
       "    </tr>\n",
       "  </thead>\n",
       "  <tbody>\n",
       "    <tr>\n",
       "      <th>0</th>\n",
       "      <td>Capstone</td>\n",
       "      <td>6.784902</td>\n",
       "    </tr>\n",
       "    <tr>\n",
       "      <th>1</th>\n",
       "      <td>Project</td>\n",
       "      <td>4.178515</td>\n",
       "    </tr>\n",
       "    <tr>\n",
       "      <th>2</th>\n",
       "      <td>Introduction</td>\n",
       "      <td>4.160233</td>\n",
       "    </tr>\n",
       "    <tr>\n",
       "      <th>3</th>\n",
       "      <td>Part</td>\n",
       "      <td>4.699229</td>\n",
       "    </tr>\n",
       "    <tr>\n",
       "      <th>4</th>\n",
       "      <td>Having</td>\n",
       "      <td>6.091754</td>\n",
       "    </tr>\n",
       "  </tbody>\n",
       "</table>\n",
       "</div>"
      ],
      "text/plain": [
       "           term       idf\n",
       "0      Capstone  6.784902\n",
       "1       Project  4.178515\n",
       "2  Introduction  4.160233\n",
       "3          Part  4.699229\n",
       "4        Having  6.091754"
      ]
     },
     "execution_count": 18,
     "metadata": {},
     "output_type": "execute_result"
    }
   ],
   "source": [
    "t2idf_.head()"
   ]
  },
  {
   "cell_type": "code",
   "execution_count": 19,
   "metadata": {},
   "outputs": [],
   "source": [
    "asc_idf = t2idf_.sort_values('idf')"
   ]
  },
  {
   "cell_type": "markdown",
   "metadata": {},
   "source": [
    "### Terms with low IDF\n",
    "Are super common, present in almost all docs"
   ]
  },
  {
   "cell_type": "code",
   "execution_count": 21,
   "metadata": {
    "scrolled": true
   },
   "outputs": [
    {
     "data": {
      "text/html": [
       "<div>\n",
       "<style scoped>\n",
       "    .dataframe tbody tr th:only-of-type {\n",
       "        vertical-align: middle;\n",
       "    }\n",
       "\n",
       "    .dataframe tbody tr th {\n",
       "        vertical-align: top;\n",
       "    }\n",
       "\n",
       "    .dataframe thead th {\n",
       "        text-align: right;\n",
       "    }\n",
       "</style>\n",
       "<table border=\"1\" class=\"dataframe\">\n",
       "  <thead>\n",
       "    <tr style=\"text-align: right;\">\n",
       "      <th></th>\n",
       "      <th>term</th>\n",
       "      <th>idf</th>\n",
       "    </tr>\n",
       "  </thead>\n",
       "  <tbody>\n",
       "    <tr>\n",
       "      <th>60</th>\n",
       "      <td>import</td>\n",
       "      <td>1.135223</td>\n",
       "    </tr>\n",
       "    <tr>\n",
       "      <th>62</th>\n",
       "      <td>as</td>\n",
       "      <td>1.175613</td>\n",
       "    </tr>\n",
       "    <tr>\n",
       "      <th>14</th>\n",
       "      <td>in</td>\n",
       "      <td>1.209142</td>\n",
       "    </tr>\n",
       "    <tr>\n",
       "      <th>98</th>\n",
       "      <td>for</td>\n",
       "      <td>1.230780</td>\n",
       "    </tr>\n",
       "    <tr>\n",
       "      <th>41</th>\n",
       "      <td>from</td>\n",
       "      <td>1.253688</td>\n",
       "    </tr>\n",
       "    <tr>\n",
       "      <th>119</th>\n",
       "      <td>print</td>\n",
       "      <td>1.425960</td>\n",
       "    </tr>\n",
       "    <tr>\n",
       "      <th>10</th>\n",
       "      <td>and</td>\n",
       "      <td>1.461892</td>\n",
       "    </tr>\n",
       "    <tr>\n",
       "      <th>7</th>\n",
       "      <td>the</td>\n",
       "      <td>1.465312</td>\n",
       "    </tr>\n",
       "    <tr>\n",
       "      <th>52</th>\n",
       "      <td>data</td>\n",
       "      <td>1.491848</td>\n",
       "    </tr>\n",
       "    <tr>\n",
       "      <th>58</th>\n",
       "      <td>of</td>\n",
       "      <td>1.500683</td>\n",
       "    </tr>\n",
       "    <tr>\n",
       "      <th>99</th>\n",
       "      <td>if</td>\n",
       "      <td>1.510109</td>\n",
       "    </tr>\n",
       "    <tr>\n",
       "      <th>24</th>\n",
       "      <td>to</td>\n",
       "      <td>1.515241</td>\n",
       "    </tr>\n",
       "    <tr>\n",
       "      <th>70</th>\n",
       "      <td>numpy</td>\n",
       "      <td>1.526105</td>\n",
       "    </tr>\n",
       "    <tr>\n",
       "      <th>71</th>\n",
       "      <td>np</td>\n",
       "      <td>1.537614</td>\n",
       "    </tr>\n",
       "    <tr>\n",
       "      <th>6</th>\n",
       "      <td>with</td>\n",
       "      <td>1.587234</td>\n",
       "    </tr>\n",
       "    <tr>\n",
       "      <th>36</th>\n",
       "      <td>is</td>\n",
       "      <td>1.629012</td>\n",
       "    </tr>\n",
       "    <tr>\n",
       "      <th>72</th>\n",
       "      <td>matplotlib</td>\n",
       "      <td>1.669906</td>\n",
       "    </tr>\n",
       "    <tr>\n",
       "      <th>82</th>\n",
       "      <td>def</td>\n",
       "      <td>1.725476</td>\n",
       "    </tr>\n",
       "    <tr>\n",
       "      <th>514</th>\n",
       "      <td>inline</td>\n",
       "      <td>1.753810</td>\n",
       "    </tr>\n",
       "    <tr>\n",
       "      <th>104</th>\n",
       "      <td>return</td>\n",
       "      <td>1.775600</td>\n",
       "    </tr>\n",
       "    <tr>\n",
       "      <th>879</th>\n",
       "      <td>True</td>\n",
       "      <td>1.794809</td>\n",
       "    </tr>\n",
       "    <tr>\n",
       "      <th>734</th>\n",
       "      <td>range</td>\n",
       "      <td>1.802666</td>\n",
       "    </tr>\n",
       "    <tr>\n",
       "      <th>74</th>\n",
       "      <td>plt</td>\n",
       "      <td>1.809203</td>\n",
       "    </tr>\n",
       "    <tr>\n",
       "      <th>19</th>\n",
       "      <td>on</td>\n",
       "      <td>1.818218</td>\n",
       "    </tr>\n",
       "    <tr>\n",
       "      <th>114</th>\n",
       "      <td>len</td>\n",
       "      <td>1.840050</td>\n",
       "    </tr>\n",
       "    <tr>\n",
       "      <th>73</th>\n",
       "      <td>pyplot</td>\n",
       "      <td>1.842902</td>\n",
       "    </tr>\n",
       "    <tr>\n",
       "      <th>61</th>\n",
       "      <td>pandas</td>\n",
       "      <td>1.861641</td>\n",
       "    </tr>\n",
       "    <tr>\n",
       "      <th>193</th>\n",
       "      <td>that</td>\n",
       "      <td>1.890800</td>\n",
       "    </tr>\n",
       "    <tr>\n",
       "      <th>63</th>\n",
       "      <td>pd</td>\n",
       "      <td>1.905515</td>\n",
       "    </tr>\n",
       "    <tr>\n",
       "      <th>303</th>\n",
       "      <td>are</td>\n",
       "      <td>1.920063</td>\n",
       "    </tr>\n",
       "    <tr>\n",
       "      <th>219</th>\n",
       "      <td>by</td>\n",
       "      <td>1.931310</td>\n",
       "    </tr>\n",
       "    <tr>\n",
       "      <th>191</th>\n",
       "      <td>it</td>\n",
       "      <td>1.949017</td>\n",
       "    </tr>\n",
       "    <tr>\n",
       "      <th>157</th>\n",
       "      <td>be</td>\n",
       "      <td>1.955788</td>\n",
       "    </tr>\n",
       "    <tr>\n",
       "      <th>986</th>\n",
       "      <td>plot</td>\n",
       "      <td>1.957388</td>\n",
       "    </tr>\n",
       "    <tr>\n",
       "      <th>101</th>\n",
       "      <td>not</td>\n",
       "      <td>1.961399</td>\n",
       "    </tr>\n",
       "    <tr>\n",
       "      <th>177</th>\n",
       "      <td>this</td>\n",
       "      <td>1.962606</td>\n",
       "    </tr>\n",
       "    <tr>\n",
       "      <th>110</th>\n",
       "      <td>append</td>\n",
       "      <td>1.971904</td>\n",
       "    </tr>\n",
       "    <tr>\n",
       "      <th>34</th>\n",
       "      <td>The</td>\n",
       "      <td>1.978833</td>\n",
       "    </tr>\n",
       "    <tr>\n",
       "      <th>881</th>\n",
       "      <td>values</td>\n",
       "      <td>1.994497</td>\n",
       "    </tr>\n",
       "    <tr>\n",
       "      <th>267</th>\n",
       "      <td>all</td>\n",
       "      <td>2.016763</td>\n",
       "    </tr>\n",
       "    <tr>\n",
       "      <th>135</th>\n",
       "      <td>use</td>\n",
       "      <td>2.031742</td>\n",
       "    </tr>\n",
       "    <tr>\n",
       "      <th>131</th>\n",
       "      <td>we</td>\n",
       "      <td>2.049581</td>\n",
       "    </tr>\n",
       "    <tr>\n",
       "      <th>160</th>\n",
       "      <td>an</td>\n",
       "      <td>2.057514</td>\n",
       "    </tr>\n",
       "    <tr>\n",
       "      <th>724</th>\n",
       "      <td>time</td>\n",
       "      <td>2.057956</td>\n",
       "    </tr>\n",
       "    <tr>\n",
       "      <th>241</th>\n",
       "      <td>or</td>\n",
       "      <td>2.057956</td>\n",
       "    </tr>\n",
       "    <tr>\n",
       "      <th>42</th>\n",
       "      <td>can</td>\n",
       "      <td>2.084421</td>\n",
       "    </tr>\n",
       "    <tr>\n",
       "      <th>416</th>\n",
       "      <td>set</td>\n",
       "      <td>2.087608</td>\n",
       "    </tr>\n",
       "    <tr>\n",
       "      <th>49</th>\n",
       "      <td>This</td>\n",
       "      <td>2.103697</td>\n",
       "    </tr>\n",
       "    <tr>\n",
       "      <th>966</th>\n",
       "      <td>False</td>\n",
       "      <td>2.126665</td>\n",
       "    </tr>\n",
       "    <tr>\n",
       "      <th>424</th>\n",
       "      <td>list</td>\n",
       "      <td>2.129038</td>\n",
       "    </tr>\n",
       "  </tbody>\n",
       "</table>\n",
       "</div>"
      ],
      "text/plain": [
       "           term       idf\n",
       "60       import  1.135223\n",
       "62           as  1.175613\n",
       "14           in  1.209142\n",
       "98          for  1.230780\n",
       "41         from  1.253688\n",
       "119       print  1.425960\n",
       "10          and  1.461892\n",
       "7           the  1.465312\n",
       "52         data  1.491848\n",
       "58           of  1.500683\n",
       "99           if  1.510109\n",
       "24           to  1.515241\n",
       "70        numpy  1.526105\n",
       "71           np  1.537614\n",
       "6          with  1.587234\n",
       "36           is  1.629012\n",
       "72   matplotlib  1.669906\n",
       "82          def  1.725476\n",
       "514      inline  1.753810\n",
       "104      return  1.775600\n",
       "879        True  1.794809\n",
       "734       range  1.802666\n",
       "74          plt  1.809203\n",
       "19           on  1.818218\n",
       "114         len  1.840050\n",
       "73       pyplot  1.842902\n",
       "61       pandas  1.861641\n",
       "193        that  1.890800\n",
       "63           pd  1.905515\n",
       "303         are  1.920063\n",
       "219          by  1.931310\n",
       "191          it  1.949017\n",
       "157          be  1.955788\n",
       "986        plot  1.957388\n",
       "101         not  1.961399\n",
       "177        this  1.962606\n",
       "110      append  1.971904\n",
       "34          The  1.978833\n",
       "881      values  1.994497\n",
       "267         all  2.016763\n",
       "135         use  2.031742\n",
       "131          we  2.049581\n",
       "160          an  2.057514\n",
       "724        time  2.057956\n",
       "241          or  2.057956\n",
       "42          can  2.084421\n",
       "416         set  2.087608\n",
       "49         This  2.103697\n",
       "966       False  2.126665\n",
       "424        list  2.129038"
      ]
     },
     "execution_count": 21,
     "metadata": {},
     "output_type": "execute_result"
    }
   ],
   "source": [
    "asc_idf.head(50)"
   ]
  },
  {
   "cell_type": "markdown",
   "metadata": {},
   "source": [
    "### Terms with high IDF\n",
    "Are idiosynchractic; unique to a single doc"
   ]
  },
  {
   "cell_type": "code",
   "execution_count": 22,
   "metadata": {
    "scrolled": true
   },
   "outputs": [
    {
     "data": {
      "text/html": [
       "<div>\n",
       "<style scoped>\n",
       "    .dataframe tbody tr th:only-of-type {\n",
       "        vertical-align: middle;\n",
       "    }\n",
       "\n",
       "    .dataframe tbody tr th {\n",
       "        vertical-align: top;\n",
       "    }\n",
       "\n",
       "    .dataframe thead th {\n",
       "        text-align: right;\n",
       "    }\n",
       "</style>\n",
       "<table border=\"1\" class=\"dataframe\">\n",
       "  <thead>\n",
       "    <tr style=\"text-align: right;\">\n",
       "      <th></th>\n",
       "      <th>term</th>\n",
       "      <th>idf</th>\n",
       "    </tr>\n",
       "  </thead>\n",
       "  <tbody>\n",
       "    <tr>\n",
       "      <th>95255</th>\n",
       "      <td>desisim</td>\n",
       "      <td>9.087487</td>\n",
       "    </tr>\n",
       "    <tr>\n",
       "      <th>95254</th>\n",
       "      <td>ELG</td>\n",
       "      <td>9.087487</td>\n",
       "    </tr>\n",
       "    <tr>\n",
       "      <th>95253</th>\n",
       "      <td>DESI</td>\n",
       "      <td>9.087487</td>\n",
       "    </tr>\n",
       "    <tr>\n",
       "      <th>95252</th>\n",
       "      <td>Pika</td>\n",
       "      <td>9.087487</td>\n",
       "    </tr>\n",
       "    <tr>\n",
       "      <th>95251</th>\n",
       "      <td>subscribing</td>\n",
       "      <td>9.087487</td>\n",
       "    </tr>\n",
       "    <tr>\n",
       "      <th>95250</th>\n",
       "      <td>comp540</td>\n",
       "      <td>9.087487</td>\n",
       "    </tr>\n",
       "    <tr>\n",
       "      <th>95249</th>\n",
       "      <td>Vandermonde</td>\n",
       "      <td>9.087487</td>\n",
       "    </tr>\n",
       "    <tr>\n",
       "      <th>95247</th>\n",
       "      <td>MGS</td>\n",
       "      <td>9.087487</td>\n",
       "    </tr>\n",
       "    <tr>\n",
       "      <th>95256</th>\n",
       "      <td>Moustakas</td>\n",
       "      <td>9.087487</td>\n",
       "    </tr>\n",
       "    <tr>\n",
       "      <th>163958</th>\n",
       "      <td>r_2223</td>\n",
       "      <td>9.087487</td>\n",
       "    </tr>\n",
       "  </tbody>\n",
       "</table>\n",
       "</div>"
      ],
      "text/plain": [
       "               term       idf\n",
       "95255       desisim  9.087487\n",
       "95254           ELG  9.087487\n",
       "95253          DESI  9.087487\n",
       "95252          Pika  9.087487\n",
       "95251   subscribing  9.087487\n",
       "95250       comp540  9.087487\n",
       "95249   Vandermonde  9.087487\n",
       "95247           MGS  9.087487\n",
       "95256     Moustakas  9.087487\n",
       "163958       r_2223  9.087487"
      ]
     },
     "execution_count": 22,
     "metadata": {},
     "output_type": "execute_result"
    }
   ],
   "source": [
    "asc_idf.tail(10)"
   ]
  },
  {
   "cell_type": "markdown",
   "metadata": {},
   "source": [
    "### See how IDFs are distributed"
   ]
  },
  {
   "cell_type": "code",
   "execution_count": 23,
   "metadata": {},
   "outputs": [
    {
     "data": {
      "text/plain": [
       "array([[<matplotlib.axes._subplots.AxesSubplot object at 0x12a1c2b70>]],\n",
       "      dtype=object)"
      ]
     },
     "execution_count": 23,
     "metadata": {},
     "output_type": "execute_result"
    },
    {
     "data": {
      "image/png": "[encoded data removed]",
      "text/plain": [
       "<Figure size 432x288 with 1 Axes>"
      ]
     },
     "metadata": {
      "needs_background": "light"
     },
     "output_type": "display_data"
    }
   ],
   "source": [
    "%matplotlib inline\n",
    "asc_idf.hist(column='idf', bins=10)"
   ]
  },
  {
   "cell_type": "markdown",
   "metadata": {},
   "source": [
    "### Grab 10 terms from each decile"
   ]
  },
  {
   "cell_type": "code",
   "execution_count": 24,
   "metadata": {},
   "outputs": [],
   "source": [
    "import math\n",
    "import numpy as np\n",
    "import pickle\n",
    "\n",
    "# flip the vocab so we can look up terms by index\n",
    "i2t = {t:i for i,t in vocab.items()}\n",
    "# sort by idf; only take terms in vocabulary\n",
    "ascending_i = [i for i in np.argsort(idf) if i in i2t]\n",
    "\n",
    "decile_size = math.floor(len(vocab) * .1)\n",
    "\n",
    "decile_sample = {}\n",
    "for d in range(0, 10):\n",
    "    decile = ascending_i[decile_size * d: decile_size * (d+1)]\n",
    "    random_i = np.random.choice(decile, 10, replace=False)\n",
    "    decile_sample[d] = {i2t[j]:idf[j] for j in random_i}\n",
    "\n",
    "with open(\"./dec_sample.pkl\", 'wb') as f:\n",
    "    pickle.dump(decile_sample, f)"
   ]
  },
  {
   "cell_type": "code",
   "execution_count": 25,
   "metadata": {},
   "outputs": [
    {
     "data": {
      "text/plain": [
       "{0: {'stats': 3.1098674786491096,\n",
       "  'Energie': 6.484796933490655,\n",
       "  'img_size': 6.522537261473502,\n",
       "  'younger': 6.561757974626783,\n",
       "  'programmers': 6.254273274878822,\n",
       "  'regard': 6.836194820328544,\n",
       "  'bundled': 7.072583598392774,\n",
       "  'mc': 6.645139583565834,\n",
       "  'paging': 6.947420455438768,\n",
       "  'Не': 6.736111361771561},\n",
       " 1: {'Jonathan': 7.8347236504396705,\n",
       "  'Rotate': 7.701192257815148,\n",
       "  'Postbank': 7.583409222158765,\n",
       "  'p_true': 7.583409222158765,\n",
       "  'func_globals': 7.988874330266929,\n",
       "  'Station': 7.382738526696613,\n",
       "  'sigmax': 7.701192257815148,\n",
       "  'Early': 7.8347236504396705,\n",
       "  'warehouse': 7.478048706500939,\n",
       "  'interupted': 8.171195887060883},\n",
       " 2: {'right_boundary': 8.394339438375093,\n",
       "  'Problema': 8.394339438375093,\n",
       "  '문구가': 8.171195887060883,\n",
       "  'concert': 8.394339438375093,\n",
       "  'gerar': 8.394339438375093,\n",
       "  'Zebra': 8.171195887060883,\n",
       "  'важен': 8.171195887060883,\n",
       "  'magspec': 8.171195887060883,\n",
       "  'img_cols': 8.171195887060883,\n",
       "  'skullstrip': 8.394339438375093},\n",
       " 3: {'start3': 8.682021510826875,\n",
       "  'identiques': 8.682021510826875,\n",
       "  'good_R': 8.682021510826875,\n",
       "  'num_ents': 8.682021510826875,\n",
       "  'ormat': 8.682021510826875,\n",
       "  'kyuu': 8.682021510826875,\n",
       "  'num_pixels': 8.682021510826875,\n",
       "  'traininng': 8.682021510826875,\n",
       "  'sphere_max': 8.682021510826875,\n",
       "  'dfEdited': 8.682021510826875},\n",
       " 4: {'__Перед': 8.682021510826875,\n",
       "  'binary_name': 8.682021510826875,\n",
       "  'cheese_dict': 8.682021510826875,\n",
       "  'corenerstone': 8.682021510826875,\n",
       "  'Ebola': 8.682021510826875,\n",
       "  '并进一步优化该算法以最好地建模这些数据': 8.682021510826875,\n",
       "  'Fasta': 8.682021510826875,\n",
       "  'Wanda': 8.682021510826875,\n",
       "  'intellectual': 8.682021510826875,\n",
       "  'yminLSM': 8.682021510826875},\n",
       " 5: {'67E': 8.682021510826875,\n",
       "  '当模型以最大深度': 9.087486618935039,\n",
       "  'Паулу': 9.087486618935039,\n",
       "  '然后对数据进行聚合运算': 9.087486618935039,\n",
       "  'sCH2': 9.087486618935039,\n",
       "  '讀出來': 9.087486618935039,\n",
       "  'singvals': 9.087486618935039,\n",
       "  '的数据用于训练': 9.087486618935039,\n",
       "  'recirculation': 9.087486618935039,\n",
       "  'ritual': 9.087486618935039},\n",
       " 6: {'var_index': 9.087486618935039,\n",
       "  'tot_pos': 9.087486618935039,\n",
       "  '入力シーケンスを考慮して最大長を設定したコードもたやすく書ける': 9.087486618935039,\n",
       "  'PartA': 9.087486618935039,\n",
       "  'правильное': 9.087486618935039,\n",
       "  'svd_cust': 9.087486618935039,\n",
       "  'word_re': 9.087486618935039,\n",
       "  'twoAirports': 9.087486618935039,\n",
       "  'source_input': 9.087486618935039,\n",
       "  'sub_probs': 9.087486618935039},\n",
       " 7: {'Impatient': 9.087486618935039,\n",
       "  'LPNLTEEKRNGIIALLKLNPTRSKKILANAKKRNKQQAANVVRVV': 9.087486618935039,\n",
       "  'PCA_QD': 9.087486618935039,\n",
       "  'DisplayAttendMap': 9.087486618935039,\n",
       "  'PAY_AMT_DEC': 9.087486618935039,\n",
       "  'X_Train': 9.087486618935039,\n",
       "  'VRecord': 9.087486618935039,\n",
       "  'ELEVATION': 9.087486618935039,\n",
       "  'bar_list': 9.087486618935039,\n",
       "  'approach3': 9.087486618935039},\n",
       " 8: {'GPL3': 9.087486618935039,\n",
       "  'AuxRegion': 9.087486618935039,\n",
       "  'Guan': 9.087486618935039,\n",
       "  'initial_node_colors': 9.087486618935039,\n",
       "  'qda_score': 9.087486618935039,\n",
       "  'Altitude': 9.087486618935039,\n",
       "  'moby_dick': 9.087486618935039,\n",
       "  'mean_prior': 9.087486618935039,\n",
       "  'poitns': 9.087486618935039,\n",
       "  'lgb_0401_medium_1': 9.087486618935039},\n",
       " 9: {'cand_name': 9.087486618935039,\n",
       "  'capsule_buy': 9.087486618935039,\n",
       "  'get_pixels_hu': 9.087486618935039,\n",
       "  'o_t': 9.087486618935039,\n",
       "  'epoch_y_true': 9.087486618935039,\n",
       "  'c_set_users': 9.087486618935039,\n",
       "  'num을': 9.087486618935039,\n",
       "  'new_letter': 9.087486618935039,\n",
       "  'evaluate_clusters': 9.087486618935039,\n",
       "  'eigenvalues_direction': 9.087486618935039}}"
      ]
     },
     "execution_count": 25,
     "metadata": {},
     "output_type": "execute_result"
    }
   ],
   "source": [
    "decile_sample"
   ]
  },
  {
   "cell_type": "markdown",
   "metadata": {},
   "source": [
    "> Neat. Good mix of languages (Russian, Chinese, English, German), numbers, variables, plain text."
   ]
  },
  {
   "cell_type": "code",
   "execution_count": null,
   "metadata": {},
   "outputs": [],
   "source": []
  }
 ],
 "metadata": {
  "kernelspec": {
   "display_name": "Python 3",
   "language": "python",
   "name": "python3"
  },
  "language_info": {
   "codemirror_mode": {
    "name": "ipython",
    "version": 3
   },
   "file_extension": ".py",
   "mimetype": "text/x-python",
   "name": "python",
   "nbconvert_exporter": "python",
   "pygments_lexer": "ipython3",
   "version": "3.6.7"
  }
 },
 "nbformat": 4,
 "nbformat_minor": 2
}
