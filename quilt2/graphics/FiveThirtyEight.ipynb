{
 "cells": [
  {
   "cell_type": "code",
   "execution_count": 2,
   "metadata": {
    "collapsed": true
   },
   "outputs": [],
   "source": [
    "import matplotlib.pyplot as plt\n",
    "import numpy as np\n",
    "import pandas as pd\n",
    "import quilt\n",
    "import seaborn as sns\n",
    "%matplotlib inline"
   ]
  },
  {
   "cell_type": "markdown",
   "metadata": {},
   "source": [
    "# Install data dependencies\n",
    "Note that we're installing the `nfl_fandom` sub-package of the `akarve/fivethirtyeight` package on Quilt:\n",
    "https://quiltdata.com/package/akarve/fivethirtyeight.\n",
    "\n",
    "`force=True` skips a y/N prompt.\n",
    "\n",
    "The Quilt registry will only install "
   ]
  },
  {
   "cell_type": "code",
   "execution_count": 3,
   "metadata": {
    "scrolled": true
   },
   "outputs": [
    {
     "name": "stdout",
     "output_type": "stream",
     "text": [
      "Downloading 8984ecbb8a5c2ab78bd8ba932b3375a4d92f4dbec3be8eb8337a3721a55823c9 (1/3)...\n",
      "Fragment already installed; skipping.\n",
      "Downloading 9310ee848a06af89210558b283cffe60b2ad123134d4f2e380be1923f137463d (2/3)...\n",
      "Fragment already installed; skipping.\n",
      "Downloading f90b58fe741cee7c53d83cf9bfa7394efaaf5147fad7218906fdcc13646e01dc (3/3)...\n",
      "Fragment already installed; skipping.\n"
     ]
    }
   ],
   "source": [
    "quilt.install(\"akarve/fivethirtyeight/nfl_fandom\", force=True)"
   ]
  },
  {
   "cell_type": "markdown",
   "metadata": {},
   "source": [
    "# Import data package"
   ]
  },
  {
   "cell_type": "code",
   "execution_count": 4,
   "metadata": {},
   "outputs": [],
   "source": [
    "from quilt.data.akarve import fivethirtyeight as fte"
   ]
  },
  {
   "cell_type": "code",
   "execution_count": 5,
   "metadata": {},
   "outputs": [
    {
     "data": {
      "text/plain": [
       "<GroupNode>\n",
       "\n",
       "NFL_fandom_data_google_trends\n",
       "NFL_fandom_data_surveymonkey\n",
       "README"
      ]
     },
     "execution_count": 5,
     "metadata": {},
     "output_type": "execute_result"
    }
   ],
   "source": [
    "fte.nfl_fandom"
   ]
  },
  {
   "cell_type": "code",
   "execution_count": 6,
   "metadata": {},
   "outputs": [
    {
     "data": {
      "text/html": [
       "<div>\n",
       "<style>\n",
       "    .dataframe thead tr:only-child th {\n",
       "        text-align: right;\n",
       "    }\n",
       "\n",
       "    .dataframe thead th {\n",
       "        text-align: left;\n",
       "    }\n",
       "\n",
       "    .dataframe tbody tr th {\n",
       "        vertical-align: top;\n",
       "    }\n",
       "</style>\n",
       "<table border=\"1\" class=\"dataframe\">\n",
       "  <thead>\n",
       "    <tr style=\"text-align: right;\">\n",
       "      <th></th>\n",
       "      <th>Unnamed: 0</th>\n",
       "      <th>Pct. Of major sports searches</th>\n",
       "      <th>Unnamed: 2</th>\n",
       "      <th>Unnamed: 3</th>\n",
       "      <th>Unnamed: 4</th>\n",
       "      <th>Unnamed: 5</th>\n",
       "      <th>Unnamed: 6</th>\n",
       "      <th>Unnamed: 7</th>\n",
       "      <th>Unnamed: 8</th>\n",
       "    </tr>\n",
       "  </thead>\n",
       "  <tbody>\n",
       "    <tr>\n",
       "      <th>0</th>\n",
       "      <td>DMA</td>\n",
       "      <td>NFL</td>\n",
       "      <td>NBA</td>\n",
       "      <td>MLB</td>\n",
       "      <td>NHL</td>\n",
       "      <td>NASCAR</td>\n",
       "      <td>CBB</td>\n",
       "      <td>CFB</td>\n",
       "      <td>Trump 2016 Vote%</td>\n",
       "    </tr>\n",
       "    <tr>\n",
       "      <th>1</th>\n",
       "      <td>Abilene-Sweetwater TX</td>\n",
       "      <td>45%</td>\n",
       "      <td>21%</td>\n",
       "      <td>14%</td>\n",
       "      <td>2%</td>\n",
       "      <td>4%</td>\n",
       "      <td>3%</td>\n",
       "      <td>11%</td>\n",
       "      <td>79.13%</td>\n",
       "    </tr>\n",
       "    <tr>\n",
       "      <th>2</th>\n",
       "      <td>Albany GA</td>\n",
       "      <td>32%</td>\n",
       "      <td>30%</td>\n",
       "      <td>9%</td>\n",
       "      <td>1%</td>\n",
       "      <td>8%</td>\n",
       "      <td>3%</td>\n",
       "      <td>17%</td>\n",
       "      <td>59.12%</td>\n",
       "    </tr>\n",
       "    <tr>\n",
       "      <th>3</th>\n",
       "      <td>Albany-Schenectady-Troy NY</td>\n",
       "      <td>40%</td>\n",
       "      <td>20%</td>\n",
       "      <td>20%</td>\n",
       "      <td>8%</td>\n",
       "      <td>6%</td>\n",
       "      <td>3%</td>\n",
       "      <td>4%</td>\n",
       "      <td>44.11%</td>\n",
       "    </tr>\n",
       "    <tr>\n",
       "      <th>4</th>\n",
       "      <td>Albuquerque-Santa Fe NM</td>\n",
       "      <td>53%</td>\n",
       "      <td>21%</td>\n",
       "      <td>11%</td>\n",
       "      <td>3%</td>\n",
       "      <td>3%</td>\n",
       "      <td>4%</td>\n",
       "      <td>6%</td>\n",
       "      <td>39.58%</td>\n",
       "    </tr>\n",
       "  </tbody>\n",
       "</table>\n",
       "</div>"
      ],
      "text/plain": [
       "                   Unnamed: 0 Pct. Of major sports searches Unnamed: 2  \\\n",
       "0                         DMA                           NFL        NBA   \n",
       "1       Abilene-Sweetwater TX                           45%        21%   \n",
       "2                   Albany GA                           32%        30%   \n",
       "3  Albany-Schenectady-Troy NY                           40%        20%   \n",
       "4     Albuquerque-Santa Fe NM                           53%        21%   \n",
       "\n",
       "  Unnamed: 3 Unnamed: 4 Unnamed: 5 Unnamed: 6 Unnamed: 7        Unnamed: 8  \n",
       "0        MLB        NHL     NASCAR        CBB        CFB  Trump 2016 Vote%  \n",
       "1        14%         2%         4%         3%        11%            79.13%  \n",
       "2         9%         1%         8%         3%        17%            59.12%  \n",
       "3        20%         8%         6%         3%         4%            44.11%  \n",
       "4        11%         3%         3%         4%         6%            39.58%  "
      ]
     },
     "execution_count": 6,
     "metadata": {},
     "output_type": "execute_result"
    }
   ],
   "source": [
    "goog = fte.nfl_fandom.NFL_fandom_data_google_trends()\n",
    "goog.head()"
   ]
  },
  {
   "cell_type": "code",
   "execution_count": 7,
   "metadata": {},
   "outputs": [
    {
     "data": {
      "text/html": [
       "<div>\n",
       "<style>\n",
       "    .dataframe thead tr:only-child th {\n",
       "        text-align: right;\n",
       "    }\n",
       "\n",
       "    .dataframe thead th {\n",
       "        text-align: left;\n",
       "    }\n",
       "\n",
       "    .dataframe tbody tr th {\n",
       "        vertical-align: top;\n",
       "    }\n",
       "</style>\n",
       "<table border=\"1\" class=\"dataframe\">\n",
       "  <thead>\n",
       "    <tr style=\"text-align: right;\">\n",
       "      <th></th>\n",
       "      <th>DMA</th>\n",
       "      <th>NFL</th>\n",
       "      <th>NBA</th>\n",
       "      <th>MLB</th>\n",
       "      <th>NHL</th>\n",
       "      <th>NASCAR</th>\n",
       "      <th>CBB</th>\n",
       "      <th>CFB</th>\n",
       "      <th>Trump 2016 Vote%</th>\n",
       "    </tr>\n",
       "  </thead>\n",
       "  <tbody>\n",
       "    <tr>\n",
       "      <th>1</th>\n",
       "      <td>Abilene-Sweetwater TX</td>\n",
       "      <td>0.45</td>\n",
       "      <td>0.21</td>\n",
       "      <td>0.14</td>\n",
       "      <td>0.02</td>\n",
       "      <td>0.04</td>\n",
       "      <td>0.03</td>\n",
       "      <td>0.11</td>\n",
       "      <td>0.7913</td>\n",
       "    </tr>\n",
       "    <tr>\n",
       "      <th>2</th>\n",
       "      <td>Albany GA</td>\n",
       "      <td>0.32</td>\n",
       "      <td>0.30</td>\n",
       "      <td>0.09</td>\n",
       "      <td>0.01</td>\n",
       "      <td>0.08</td>\n",
       "      <td>0.03</td>\n",
       "      <td>0.17</td>\n",
       "      <td>0.5912</td>\n",
       "    </tr>\n",
       "    <tr>\n",
       "      <th>3</th>\n",
       "      <td>Albany-Schenectady-Troy NY</td>\n",
       "      <td>0.40</td>\n",
       "      <td>0.20</td>\n",
       "      <td>0.20</td>\n",
       "      <td>0.08</td>\n",
       "      <td>0.06</td>\n",
       "      <td>0.03</td>\n",
       "      <td>0.04</td>\n",
       "      <td>0.4411</td>\n",
       "    </tr>\n",
       "    <tr>\n",
       "      <th>4</th>\n",
       "      <td>Albuquerque-Santa Fe NM</td>\n",
       "      <td>0.53</td>\n",
       "      <td>0.21</td>\n",
       "      <td>0.11</td>\n",
       "      <td>0.03</td>\n",
       "      <td>0.03</td>\n",
       "      <td>0.04</td>\n",
       "      <td>0.06</td>\n",
       "      <td>0.3958</td>\n",
       "    </tr>\n",
       "    <tr>\n",
       "      <th>5</th>\n",
       "      <td>Alexandria LA</td>\n",
       "      <td>0.42</td>\n",
       "      <td>0.28</td>\n",
       "      <td>0.09</td>\n",
       "      <td>0.01</td>\n",
       "      <td>0.05</td>\n",
       "      <td>0.03</td>\n",
       "      <td>0.12</td>\n",
       "      <td>0.6964</td>\n",
       "    </tr>\n",
       "  </tbody>\n",
       "</table>\n",
       "</div>"
      ],
      "text/plain": [
       "0                         DMA   NFL   NBA   MLB   NHL  NASCAR   CBB   CFB  \\\n",
       "1       Abilene-Sweetwater TX  0.45  0.21  0.14  0.02    0.04  0.03  0.11   \n",
       "2                   Albany GA  0.32  0.30  0.09  0.01    0.08  0.03  0.17   \n",
       "3  Albany-Schenectady-Troy NY  0.40  0.20  0.20  0.08    0.06  0.03  0.04   \n",
       "4     Albuquerque-Santa Fe NM  0.53  0.21  0.11  0.03    0.03  0.04  0.06   \n",
       "5               Alexandria LA  0.42  0.28  0.09  0.01    0.05  0.03  0.12   \n",
       "\n",
       "0  Trump 2016 Vote%  \n",
       "1            0.7913  \n",
       "2            0.5912  \n",
       "3            0.4411  \n",
       "4            0.3958  \n",
       "5            0.6964  "
      ]
     },
     "execution_count": 7,
     "metadata": {},
     "output_type": "execute_result"
    }
   ],
   "source": [
    "# select 3 columns\n",
    "spts = goog[[goog.columns[x] for x in range(9)]]\n",
    "# promote row[0] to column names\n",
    "spts.columns = spts.iloc[0]\n",
    "# drop the first row, which is the labels\n",
    "spts = spts.iloc[1:]\n",
    "# for all of the XX% columns, turn them into floats\n",
    "str_cols = [spts.columns[x] for x in [1,2,3,4,5,6,7]]\n",
    "for c in str_cols:\n",
    "    spts[c] = spts[c].map(lambda x: float(x[:-1])/100)\n",
    "# turn the last column into a real %\n",
    "spts[spts.columns[8]] = spts[spts.columns[8]].map(lambda x:float(x[:-1])/100)\n",
    "# now peak at our clean data\n",
    "spts.head()"
   ]
  },
  {
   "cell_type": "code",
   "execution_count": 69,
   "metadata": {
    "scrolled": true
   },
   "outputs": [
    {
     "data": {
      "image/png": "[encoded data removed]",
      "text/plain": [
       "<matplotlib.figure.Figure at 0x110e1d320>"
      ]
     },
     "metadata": {},
     "output_type": "display_data"
    }
   ],
   "source": [
    "# order league columns from left- to neutral- to right- leaning\n",
    "league_cols = [2, 3, 4, 1, 6, 5, 7]\n",
    "# dimensions of the subplot\n",
    "rows = 1\n",
    "cols = len(league_cols)\n",
    "\n",
    "# loop counter for detecting boundary rendering conditions\n",
    "i = 1\n",
    "# aspect ratio\n",
    "plt.figure(figsize=(16,3))\n",
    "# render each subplot\n",
    "for lc in league_cols:\n",
    "    axes = plt.subplot(rows, cols, i)\n",
    "    # limits\n",
    "    axes.set_xlim([.2, .805])\n",
    "    axes.set_ylim([-.01, .5])\n",
    "    # ticks\n",
    "    axes.set_xticks(np.arange(.2,.8,.2)) \n",
    "    axes.grid()\n",
    "    axes.spines['top'].set_visible(False)\n",
    "    axes.spines['bottom'].set_visible(False)\n",
    "    axes.spines['left'].set_visible(False)\n",
    "    axes.spines['right'].set_visible(False)\n",
    "    # title and labels\n",
    "    axes.title.set_text(spts.columns[lc])\n",
    "    axes.yaxis.label.set_visible(False)\n",
    "    axes.xaxis.label.set_visible(False)\n",
    "    plt.tick_params(top='off', bottom='off', right='off', labelbottom='on')\n",
    "    left_cond = 'on' if i == 1 else 'off'\n",
    "    plt.tick_params(left=left_cond, labelleft=left_cond)\n",
    "    # seaborn scatterplot with custom colors\n",
    "    sns.regplot(x=spts.columns[8], y=spts.columns[lc], data=spts,\n",
    "                scatter_kws={'alpha':0.3, 'color':'gray'},\n",
    "                line_kws={'alpha':1, 'color': 'r', 'lw': .5})\n",
    "    i += 1"
   ]
  },
  {
   "cell_type": "code",
   "execution_count": null,
   "metadata": {
    "collapsed": true
   },
   "outputs": [],
   "source": []
  }
 ],
 "metadata": {
  "kernelspec": {
   "display_name": "Python 3",
   "language": "python",
   "name": "python3"
  },
  "language_info": {
   "codemirror_mode": {
    "name": "ipython",
    "version": 3
   },
   "file_extension": ".py",
   "mimetype": "text/x-python",
   "name": "python",
   "nbconvert_exporter": "python",
   "pygments_lexer": "ipython3",
   "version": "3.6.3"
  }
 },
 "nbformat": 4,
 "nbformat_minor": 2
}
