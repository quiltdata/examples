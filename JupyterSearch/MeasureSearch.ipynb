{
 "cells": [
  {
   "cell_type": "code",
   "execution_count": 131,
   "metadata": {},
   "outputs": [],
   "source": [
    "import pickle\n",
    "\n",
    "with open(\"./dec_sample.pkl\", \"rb\") as f:\n",
    "    decile_sample = pickle.load(f)"
   ]
  },
  {
   "cell_type": "code",
   "execution_count": 132,
   "metadata": {},
   "outputs": [
    {
     "name": "stdout",
     "output_type": "stream",
     "text": [
      "{0: {'Independent': 6.645139583565834,\n",
      "     'MAE': 6.602579969147039,\n",
      "     'OSError': 7.295727149706984,\n",
      "     'Sal': 7.072583598392774,\n",
      "     'basin': 6.22528573800557,\n",
      "     'methods': 3.586228408390312,\n",
      "     'processed': 5.621750716135312,\n",
      "     'resulting': 4.424047524822972,\n",
      "     'traverse': 7.008045077255203,\n",
      "     'модель': 5.888813501384357},\n",
      " 1: {'Suspects': 7.988874330266929,\n",
      "     'contemporary': 7.701192257815148,\n",
      "     'discount_factor': 7.988874330266929,\n",
      "     'firstnum': 7.478048706500939,\n",
      "     'nonzeroy': 7.478048706500939,\n",
      "     'scale_color_brewer': 7.701192257815148,\n",
      "     'train_lgb': 7.8347236504396705,\n",
      "     'unlearned': 7.8347236504396705,\n",
      "     'zero_with_resv': 7.8347236504396705,\n",
      "     'Пока': 7.583409222158765},\n",
      " 2: {'Gott': 8.171195887060883,\n",
      "     'Remarque': 8.171195887060883,\n",
      "     'delta_price1': 8.394339438375093,\n",
      "     'dirpath': 8.171195887060883,\n",
      "     'min_list_1': 8.394339438375093,\n",
      "     'numRows此圖合併了幾行': 8.171195887060883,\n",
      "     'occupants': 8.394339438375093,\n",
      "     'set_next': 8.394339438375093,\n",
      "     'vocab_dict': 8.394339438375093,\n",
      "     'wordCountsGrouped': 8.171195887060883},\n",
      " 3: {'dg': 8.682021510826875,\n",
      "     'epoch_n': 8.682021510826875,\n",
      "     'ewma_200': 8.682021510826875,\n",
      "     'feature_all_utilities_included': 8.682021510826875,\n",
      "     'get_flight_instance_index': 8.682021510826875,\n",
      "     'mightbe': 8.682021510826875,\n",
      "     'recomendável': 8.682021510826875,\n",
      "     'test_sentences_all': 8.682021510826875,\n",
      "     'visualizarmos': 8.682021510826875,\n",
      "     'y2max': 8.394339438375093},\n",
      " 4: {'2619e': 8.682021510826875,\n",
      "     '4cP': 8.682021510826875,\n",
      "     'Bertschinger': 8.682021510826875,\n",
      "     'Ergänzungsmatrix': 8.682021510826875,\n",
      "     'IAP': 8.682021510826875,\n",
      "     'MYO1A': 8.682021510826875,\n",
      "     'Squater': 8.682021510826875,\n",
      "     'cap20': 8.682021510826875,\n",
      "     'd4JSvHP': 8.682021510826875,\n",
      "     '簡略な方法': 8.682021510826875},\n",
      " 5: {'amp_t': 8.682021510826875,\n",
      "     'sel_train': 9.087486618935039,\n",
      "     'selection_numbers': 9.087486618935039,\n",
      "     'set_y': 9.087486618935039,\n",
      "     '每个子分类器都会对一个样本给出一个预测结果': 9.087486618935039,\n",
      "     '熔点': 9.087486618935039,\n",
      "     '默认值为0': 9.087486618935039,\n",
      "     '들어갈수': 9.087486618935039,\n",
      "     '맥락이': 9.087486618935039,\n",
      "     '비교해볼때': 9.087486618935039},\n",
      " 6: {'Number_of_Neurons': 9.087486618935039,\n",
      "     'slider2': 9.087486618935039,\n",
      "     'u6': 9.087486618935039,\n",
      "     'ufo48': 9.087486618935039,\n",
      "     'zillowstatic': 9.087486618935039,\n",
      "     'продолжительность': 9.087486618935039,\n",
      "     'стадии': 9.087486618935039,\n",
      "     'факторизационными': 9.087486618935039,\n",
      "     '去均值算方差': 9.087486618935039,\n",
      "     '취약한': 9.087486618935039},\n",
      " 7: {'2levels': 9.087486618935039,\n",
      "     'ELECTRICIAN': 9.087486618935039,\n",
      "     'PARTICIPACION_8b_RBD': 9.087486618935039,\n",
      "     'RNNCell': 9.087486618935039,\n",
      "     'R_data_2': 9.087486618935039,\n",
      "     'Scorpius': 9.087486618935039,\n",
      "     'Tourney': 9.087486618935039,\n",
      "     '_complexstuff': 9.087486618935039,\n",
      "     '_nclasses': 9.087486618935039,\n",
      "     'arrivalTime': 9.087486618935039},\n",
      " 8: {'CHARGEAMOUNT3': 9.087486618935039,\n",
      "     'last_year': 9.087486618935039,\n",
      "     'lear_decay': 9.087486618935039,\n",
      "     'madre': 9.087486618935039,\n",
      "     'misapplied': 9.087486618935039,\n",
      "     'mydb': 9.087486618935039,\n",
      "     'nmf_song_topics': 9.087486618935039,\n",
      "     'path_to_movies': 9.087486618935039,\n",
      "     'possible_actions': 9.087486618935039,\n",
      "     'pred_positives': 9.087486618935039},\n",
      " 9: {'beware': 9.087486618935039,\n",
      "     'candle_per_day': 9.087486618935039,\n",
      "     'createvm': 9.087486618935039,\n",
      "     'df_distances': 9.087486618935039,\n",
      "     'diff_num_no_iit_rates_low_MI': 9.087486618935039,\n",
      "     'div_by_5': 9.087486618935039,\n",
      "     'file_finished': 9.087486618935039,\n",
      "     'flippedDCMS': 9.087486618935039,\n",
      "     'hovercolor': 9.087486618935039,\n",
      "     'new_days': 9.087486618935039}}\n"
     ]
    }
   ],
   "source": [
    "import pprint\n",
    "\n",
    "pp = pprint.PrettyPrinter()\n",
    "pp.pprint(decile_sample)"
   ]
  },
  {
   "cell_type": "code",
   "execution_count": 133,
   "metadata": {},
   "outputs": [],
   "source": [
    "def report(t):   \n",
    "    pos = !grep -il \"\\b{t}\\b\" extracts/*\n",
    "    pos = set([basename(f) for f in pos])\n",
    "    res = set([basename(r['key']) for r in b.search(t, size=10000) if basename(r['key']).startswith(\"nb_\")])\n",
    "\n",
    "    tps = res.intersection(pos)\n",
    "    fps = res.difference(pos)\n",
    "    fns = pos.difference(res)\n",
    "\n",
    "    return {\n",
    "        'ground_truth': pos,\n",
    "        'search_results': res,\n",
    "        'true_positives': tps,\n",
    "        'false_positives': fps,\n",
    "        'false_negatives': fns,\n",
    "    }"
   ]
  },
  {
   "cell_type": "code",
   "execution_count": 122,
   "metadata": {},
   "outputs": [
    {
     "name": "stdout",
     "output_type": "stream",
     "text": [
      "= Decile 0 =\n",
      "= Decile 1 =\n",
      "= Decile 2 =\n",
      "= Decile 3 =\n",
      "= Decile 4 =\n",
      "= Decile 5 =\n",
      "= Decile 6 =\n",
      "= Decile 7 =\n",
      "= Decile 8 =\n",
      "= Decile 9 =\n"
     ]
    }
   ],
   "source": [
    "from os.path import basename\n",
    "\n",
    "import t4\n",
    "\n",
    "b = t4.Bucket(\"s3://t4-staging\")\n",
    "\n",
    "stats = {}\n",
    "for d in range(0,10):\n",
    "    print(f\"= Decile {d} =\")\n",
    "    stats[d] = {}\n",
    "    for t in decile_sample[d].keys():\n",
    "        rep = report(t)\n",
    "        \n",
    "        tps = len(rep['true_positives'])\n",
    "        fps = len(rep['false_positives'])\n",
    "        fns = len(rep['false_negatives'])\n",
    "        \n",
    "        pdenom = tps + fps\n",
    "        rdenom = tps + fns\n",
    "        \n",
    "        stats[d][t] = {\n",
    "            'precision': tps / pdenom if pdenom else None,\n",
    "            'recall': tps / rdenom if rdenom else None,\n",
    "            'tps': tps,\n",
    "            'fps': fps,\n",
    "            'fns': fns\n",
    "\n",
    "        }"
   ]
  },
  {
   "cell_type": "code",
   "execution_count": 154,
   "metadata": {
    "scrolled": true
   },
   "outputs": [
    {
     "name": "stdout",
     "output_type": "stream",
     "text": [
      "{'amp_t': {'fns': 0, 'fps': 0, 'precision': 1.0, 'recall': 1.0, 'tps': 2},\n",
      " 'sel_train': {'fns': 6, 'fps': 0, 'precision': None, 'recall': 0.0, 'tps': 0},\n",
      " 'selection_numbers': {'fns': 0,\n",
      "                       'fps': 0,\n",
      "                       'precision': 1.0,\n",
      "                       'recall': 1.0,\n",
      "                       'tps': 1},\n",
      " 'set_y': {'fns': 1, 'fps': 0, 'precision': None, 'recall': 0.0, 'tps': 0},\n",
      " '每个子分类器都会对一个样本给出一个预测结果': {'fns': 0,\n",
      "                           'fps': 145,\n",
      "                           'precision': 0.00684931506849315,\n",
      "                           'recall': 1.0,\n",
      "                           'tps': 1},\n",
      " '熔点': {'fns': 0,\n",
      "        'fps': 51,\n",
      "        'precision': 0.019230769230769232,\n",
      "        'recall': 1.0,\n",
      "        'tps': 1},\n",
      " '默认值为0': {'fns': 0,\n",
      "           'fps': 5126,\n",
      "           'precision': 0.0001950458357714063,\n",
      "           'recall': 1.0,\n",
      "           'tps': 1},\n",
      " '들어갈수': {'fns': 0, 'fps': 0, 'precision': 1.0, 'recall': 1.0, 'tps': 1},\n",
      " '맥락이': {'fns': 0, 'fps': 0, 'precision': 1.0, 'recall': 1.0, 'tps': 1},\n",
      " '비교해볼때': {'fns': 0, 'fps': 0, 'precision': 1.0, 'recall': 1.0, 'tps': 1}}\n"
     ]
    }
   ],
   "source": [
    "pp.pprint(stats[5])"
   ]
  },
  {
   "cell_type": "code",
   "execution_count": 160,
   "metadata": {},
   "outputs": [],
   "source": [
    "pr = {}\n",
    "for d in range(0,10):\n",
    "    s = stats[d]\n",
    "    csize = sum([s[t]['tps'] for t in s])\n",
    "    wprecision = [s[t]['tps']*s[t]['precision'] for t in s if s[t]['precision']]\n",
    "    wrecall = [s[t]['tps']*s[t]['recall'] for t in s if s[t]['recall']]\n",
    "\n",
    "    pr[d] = {\n",
    "        'precision': sum(wprecision)/csize,\n",
    "        'recall': sum(wrecall)/csize,\n",
    "        'docs': csize\n",
    "    }"
   ]
  },
  {
   "cell_type": "code",
   "execution_count": 161,
   "metadata": {},
   "outputs": [
    {
     "data": {
      "text/plain": [
       "{0: {'precision': 0.9991499696417728,\n",
       "  'recall': 0.9983338742832413,\n",
       "  'docs': 1170},\n",
       " 1: {'precision': 1.0, 'recall': 1.0, 'docs': 84},\n",
       " 2: {'precision': 0.9159180740208409, 'recall': 1.0, 'docs': 46},\n",
       " 3: {'precision': 1.0, 'recall': 1.0, 'docs': 23},\n",
       " 4: {'precision': 0.8909276248725789, 'recall': 1.0, 'docs': 18},\n",
       " 5: {'precision': 0.6695861255705593, 'recall': 1.0, 'docs': 9},\n",
       " 6: {'precision': 0.9007999999999999, 'recall': 1.0, 'docs': 10},\n",
       " 7: {'precision': 1.0, 'recall': 1.0, 'docs': 32},\n",
       " 8: {'precision': 1.0, 'recall': 1.0, 'docs': 82},\n",
       " 9: {'precision': 1.0, 'recall': 1.0, 'docs': 18}}"
      ]
     },
     "execution_count": 161,
     "metadata": {},
     "output_type": "execute_result"
    }
   ],
   "source": [
    "pr"
   ]
  },
  {
   "cell_type": "code",
   "execution_count": 166,
   "metadata": {},
   "outputs": [
    {
     "data": {
      "text/html": [
       "<div>\n",
       "<style scoped>\n",
       "    .dataframe tbody tr th:only-of-type {\n",
       "        vertical-align: middle;\n",
       "    }\n",
       "\n",
       "    .dataframe tbody tr th {\n",
       "        vertical-align: top;\n",
       "    }\n",
       "\n",
       "    .dataframe thead th {\n",
       "        text-align: right;\n",
       "    }\n",
       "</style>\n",
       "<table border=\"1\" class=\"dataframe\">\n",
       "  <thead>\n",
       "    <tr style=\"text-align: right;\">\n",
       "      <th></th>\n",
       "      <th>precision</th>\n",
       "      <th>recall</th>\n",
       "      <th>docs</th>\n",
       "    </tr>\n",
       "  </thead>\n",
       "  <tbody>\n",
       "    <tr>\n",
       "      <th>0</th>\n",
       "      <td>0.999150</td>\n",
       "      <td>0.998334</td>\n",
       "      <td>1170</td>\n",
       "    </tr>\n",
       "    <tr>\n",
       "      <th>1</th>\n",
       "      <td>1.000000</td>\n",
       "      <td>1.000000</td>\n",
       "      <td>84</td>\n",
       "    </tr>\n",
       "    <tr>\n",
       "      <th>2</th>\n",
       "      <td>0.915918</td>\n",
       "      <td>1.000000</td>\n",
       "      <td>46</td>\n",
       "    </tr>\n",
       "    <tr>\n",
       "      <th>3</th>\n",
       "      <td>1.000000</td>\n",
       "      <td>1.000000</td>\n",
       "      <td>23</td>\n",
       "    </tr>\n",
       "    <tr>\n",
       "      <th>4</th>\n",
       "      <td>0.890928</td>\n",
       "      <td>1.000000</td>\n",
       "      <td>18</td>\n",
       "    </tr>\n",
       "    <tr>\n",
       "      <th>5</th>\n",
       "      <td>0.669586</td>\n",
       "      <td>1.000000</td>\n",
       "      <td>9</td>\n",
       "    </tr>\n",
       "    <tr>\n",
       "      <th>6</th>\n",
       "      <td>0.900800</td>\n",
       "      <td>1.000000</td>\n",
       "      <td>10</td>\n",
       "    </tr>\n",
       "    <tr>\n",
       "      <th>7</th>\n",
       "      <td>1.000000</td>\n",
       "      <td>1.000000</td>\n",
       "      <td>32</td>\n",
       "    </tr>\n",
       "    <tr>\n",
       "      <th>8</th>\n",
       "      <td>1.000000</td>\n",
       "      <td>1.000000</td>\n",
       "      <td>82</td>\n",
       "    </tr>\n",
       "    <tr>\n",
       "      <th>9</th>\n",
       "      <td>1.000000</td>\n",
       "      <td>1.000000</td>\n",
       "      <td>18</td>\n",
       "    </tr>\n",
       "  </tbody>\n",
       "</table>\n",
       "</div>"
      ],
      "text/plain": [
       "   precision    recall  docs\n",
       "0   0.999150  0.998334  1170\n",
       "1   1.000000  1.000000    84\n",
       "2   0.915918  1.000000    46\n",
       "3   1.000000  1.000000    23\n",
       "4   0.890928  1.000000    18\n",
       "5   0.669586  1.000000     9\n",
       "6   0.900800  1.000000    10\n",
       "7   1.000000  1.000000    32\n",
       "8   1.000000  1.000000    82\n",
       "9   1.000000  1.000000    18"
      ]
     },
     "execution_count": 166,
     "metadata": {},
     "output_type": "execute_result"
    }
   ],
   "source": [
    "table = [\n",
    "    (pr[d]['precision'], pr[d]['recall'], pr[d]['docs']) for d in pr\n",
    "]\n",
    "\n",
    "import pandas as pd\n",
    "\n",
    "df = pd.DataFrame(table, columns=['precision', 'recall', 'docs'])\n",
    "df"
   ]
  },
  {
   "cell_type": "code",
   "execution_count": 173,
   "metadata": {},
   "outputs": [],
   "source": [
    "precision = (df['precision']*df['docs']).sum() / df['docs'].sum()"
   ]
  },
  {
   "cell_type": "code",
   "execution_count": 172,
   "metadata": {
    "scrolled": true
   },
   "outputs": [],
   "source": [
    "recall = (df['recall']*df['docs']).sum() / df['docs'].sum()"
   ]
  },
  {
   "cell_type": "code",
   "execution_count": 176,
   "metadata": {},
   "outputs": [
    {
     "data": {
      "text/plain": [
       "0.9957215110540265"
      ]
     },
     "execution_count": 176,
     "metadata": {},
     "output_type": "execute_result"
    }
   ],
   "source": [
    "f1 = 2*(precision * recall)/(precision + recall)\n",
    "f1"
   ]
  },
  {
   "cell_type": "code",
   "execution_count": 153,
   "metadata": {},
   "outputs": [
    {
     "data": {
      "text/plain": [
       "{0: {'precision': 0.9991499696417728,\n",
       "  'recall': 0.9983338742832413,\n",
       "  'docs': 1170},\n",
       " 1: {'precision': 1.0, 'recall': 1.0, 'docs': 84},\n",
       " 2: {'precision': 0.9159180740208409, 'recall': 1.0, 'docs': 46},\n",
       " 3: {'precision': 1.0, 'recall': 1.0, 'docs': 23},\n",
       " 4: {'precision': 0.8909276248725789, 'recall': 1.0, 'docs': 18},\n",
       " 5: {'precision': 0.6695861255705593, 'recall': 1.0, 'docs': 9},\n",
       " 6: {'precision': 0.9007999999999999, 'recall': 1.0, 'docs': 10},\n",
       " 7: {'precision': 1.0, 'recall': 1.0, 'docs': 32},\n",
       " 8: {'precision': 1.0, 'recall': 1.0, 'docs': 82},\n",
       " 9: {'precision': 1.0, 'recall': 1.0, 'docs': 18}}"
      ]
     },
     "execution_count": 153,
     "metadata": {},
     "output_type": "execute_result"
    }
   ],
   "source": [
    "pr"
   ]
  },
  {
   "cell_type": "code",
   "execution_count": null,
   "metadata": {},
   "outputs": [],
   "source": [
    "for d in range(0,10):\n",
    "    s = pr[d]\n",
    "    wpr = [x['precision'] for x in pr]"
   ]
  }
 ],
 "metadata": {
  "kernelspec": {
   "display_name": "conda_chainer_p36",
   "language": "python",
   "name": "conda_chainer_p36"
  },
  "language_info": {
   "codemirror_mode": {
    "name": "ipython",
    "version": 3
   },
   "file_extension": ".py",
   "mimetype": "text/x-python",
   "name": "python",
   "nbconvert_exporter": "python",
   "pygments_lexer": "ipython3",
   "version": "3.6.5"
  }
 },
 "nbformat": 4,
 "nbformat_minor": 2
}
