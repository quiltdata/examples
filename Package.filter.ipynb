{
 "cells": [
  {
   "cell_type": "markdown",
   "metadata": {},
   "source": [
    "# Package filtering\n",
    "Allows you to narrow a manifest down to specific keys of interest.\n",
    "See also [`Package.filter()`](https://docs.quiltdata.com/api-reference/package#Package.filter)."
   ]
  },
  {
   "cell_type": "code",
   "execution_count": 1,
   "metadata": {},
   "outputs": [],
   "source": [
    "import quilt3"
   ]
  },
  {
   "cell_type": "code",
   "execution_count": 15,
   "metadata": {},
   "outputs": [],
   "source": [
    "p = quilt3.Package.browse(\"aics/label-free-imaging-collection\", registry=\"s3://allencell\")"
   ]
  },
  {
   "cell_type": "code",
   "execution_count": 16,
   "metadata": {},
   "outputs": [
    {
     "data": {
      "text/plain": [
       "(remote Package)\n",
       " └─README.md\n",
       " └─cells_2d/\n",
       "   └─fov-0_CellIndex-11.tiff\n",
       "   └─fov-0_CellIndex-12.tiff\n",
       "   └─fov-0_CellIndex-5.tiff\n",
       "   └─fov-0_CellIndex-6.tiff\n",
       "   └─fov-0_CellIndex-7.tiff\n",
       "   └─fov-0_CellIndex-9.tiff\n",
       "   └─fov-1000_CellIndex-1.tiff\n",
       "   └─fov-1000_CellIndex-5.tiff\n",
       "   └─fov-1001_CellIndex-2.tiff\n",
       "   └─fov-1001_CellIndex-5.tiff\n",
       "   └─fov-1001_CellIndex-8.tiff\n",
       "   └─fov-1001_CellIndex-9.tiff\n",
       "   └─fov-1002_CellIndex-2.tiff\n",
       "   └─fov-1003_CellIndex-1.tiff\n",
       " └─cells_3d/\n",
       " └─data_feats.csv\n",
       " └─fovs/\n",
       " └─reference_images/\n",
       " ..."
      ]
     },
     "execution_count": 16,
     "metadata": {},
     "output_type": "execute_result"
    }
   ],
   "source": [
    "p"
   ]
  },
  {
   "cell_type": "code",
   "execution_count": 17,
   "metadata": {},
   "outputs": [
    {
     "data": {
      "text/plain": [
       "(remote Package)\n",
       " └─cells_2d/\n",
       "   └─fov-0_CellIndex-11.tiff\n",
       "   └─fov-0_CellIndex-12.tiff\n",
       "   └─fov-0_CellIndex-5.tiff\n",
       "   └─fov-0_CellIndex-6.tiff\n",
       "   └─fov-0_CellIndex-7.tiff\n",
       "   └─fov-0_CellIndex-9.tiff\n",
       "   └─fov-1000_CellIndex-1.tiff\n",
       "   └─fov-1000_CellIndex-5.tiff\n",
       "   └─fov-1001_CellIndex-2.tiff\n",
       "   └─fov-1001_CellIndex-5.tiff\n",
       "   └─fov-1001_CellIndex-8.tiff\n",
       "   └─fov-1001_CellIndex-9.tiff\n",
       "   └─fov-1002_CellIndex-2.tiff\n",
       "   └─fov-1003_CellIndex-1.tiff\n",
       "   └─fov-1003_CellIndex-12.tiff\n",
       "   └─fov-1003_CellIndex-13.tiff\n",
       "   └─fov-1003_CellIndex-15.tiff\n",
       "   └─fov-1003_CellIndex-2.tiff\n",
       "   └─fov-1003_CellIndex-5.tiff\n",
       " ..."
      ]
     },
     "execution_count": 17,
     "metadata": {},
     "output_type": "execute_result"
    }
   ],
   "source": [
    "def filter(key, entry):\n",
    "    return key.startswith(\"cells_2d\")\n",
    "\n",
    "p.filter(filter)"
   ]
  },
  {
   "cell_type": "code",
   "execution_count": null,
   "metadata": {},
   "outputs": [],
   "source": []
  }
 ],
 "metadata": {
  "kernelspec": {
   "display_name": "Python 3",
   "language": "python",
   "name": "python3"
  },
  "language_info": {
   "codemirror_mode": {
    "name": "ipython",
    "version": 3
   },
   "file_extension": ".py",
   "mimetype": "text/x-python",
   "name": "python",
   "nbconvert_exporter": "python",
   "pygments_lexer": "ipython3",
   "version": "3.6.7"
  }
 },
 "nbformat": 4,
 "nbformat_minor": 2
}
