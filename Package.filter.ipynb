{
 "cells": [
  {
   "cell_type": "markdown",
   "metadata": {},
   "source": [
    "# Package filtering\n",
    "Allows you to narrow a manifest down to specific keys of interest.\n",
    "See also [`Package.filter()`](https://docs.quiltdata.com/api-reference/package#Package.filter)."
   ]
  },
  {
   "cell_type": "code",
   "execution_count": 1,
   "metadata": {},
   "outputs": [
    {
     "name": "stdout",
     "output_type": "stream",
     "text": [
      "env: AWS_PROFILE=default\n"
     ]
    }
   ],
   "source": [
    "%env AWS_PROFILE=default"
   ]
  },
  {
   "cell_type": "code",
   "execution_count": 2,
   "metadata": {},
   "outputs": [],
   "source": [
    "import quilt3 as q3"
   ]
  },
  {
   "cell_type": "code",
   "execution_count": 3,
   "metadata": {},
   "outputs": [
    {
     "name": "stderr",
     "output_type": "stream",
     "text": [
      "Loading manifest: 100%|█████████████████████| 49342/49342 [00:00<00:00, 90.2k/s]\n"
     ]
    }
   ],
   "source": [
    "p = q3.Package.browse(\"aics/label-free-imaging-collection\", registry=\"s3://allencell\")"
   ]
  },
  {
   "cell_type": "code",
   "execution_count": 4,
   "metadata": {
    "scrolled": true
   },
   "outputs": [
    {
     "data": {
      "text/plain": [
       "(remote Package)\n",
       " └─cells_2d/\n",
       "   └─fov-0_CellIndex-11.tiff\n",
       "   └─fov-0_CellIndex-12.tiff\n",
       "   └─fov-0_CellIndex-5.tiff\n",
       "   └─fov-0_CellIndex-6.tiff\n",
       "   └─fov-0_CellIndex-7.tiff\n",
       "   └─fov-0_CellIndex-9.tiff\n",
       "   └─fov-1000_CellIndex-1.tiff\n",
       "   └─fov-1000_CellIndex-5.tiff\n",
       "   └─fov-1001_CellIndex-2.tiff\n",
       "   └─fov-1001_CellIndex-5.tiff\n",
       "   └─fov-1001_CellIndex-8.tiff\n",
       "   └─fov-1001_CellIndex-9.tiff\n",
       "   └─fov-1002_CellIndex-2.tiff\n",
       "   └─fov-1003_CellIndex-1.tiff\n",
       "   └─fov-1003_CellIndex-12.tiff\n",
       "   └─fov-1003_CellIndex-13.tiff\n",
       "   └─fov-1003_CellIndex-15.tiff\n",
       "   └─fov-1003_CellIndex-2.tiff\n",
       "   └─fov-1003_CellIndex-5.tiff\n",
       " ..."
      ]
     },
     "execution_count": 4,
     "metadata": {},
     "output_type": "execute_result"
    }
   ],
   "source": [
    "def filter(key, entry):\n",
    "    return key.startswith(\"cells_2d\")\n",
    "\n",
    "p.filter(filter)"
   ]
  },
  {
   "cell_type": "markdown",
   "metadata": {},
   "source": [
    "# Enumerating all revisions of all packages in a registry"
   ]
  },
  {
   "cell_type": "code",
   "execution_count": null,
   "metadata": {},
   "outputs": [],
   "source": [
    "reg = \"s3://allencell\"\n",
    "for pname in q3.list_packages(reg):\n",
    "    for ts, h in q3.list_package_versions(pname, reg):\n",
    "        p = q3.Package.browse(pname, reg, top_hash=h)\n",
    "        print(f\"name={pname}, timestamp={ts}, top_hash={h}\")\n",
    "        # If migrating all revisions to a new registry, be mindful to sort (or reverse sort)\n",
    "        # by timestamp (ts) and note that the ts is not always a number\n",
    "        # but will be the string 'latest' for the most recent revision"
   ]
  }
 ],
 "metadata": {
  "kernelspec": {
   "display_name": "Python 3 (ipykernel)",
   "language": "python",
   "name": "python3"
  },
  "language_info": {
   "codemirror_mode": {
    "name": "ipython",
    "version": 3
   },
   "file_extension": ".py",
   "mimetype": "text/x-python",
   "name": "python",
   "nbconvert_exporter": "python",
   "pygments_lexer": "ipython3",
   "version": "3.9.16"
  }
 },
 "nbformat": 4,
 "nbformat_minor": 2
}
