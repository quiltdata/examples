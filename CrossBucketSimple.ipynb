{
 "cells": [
  {
   "cell_type": "code",
   "execution_count": 2,
   "metadata": {},
   "outputs": [],
   "source": [
    "import quilt3"
   ]
  },
  {
   "cell_type": "code",
   "execution_count": 3,
   "metadata": {},
   "outputs": [
    {
     "name": "stderr",
     "output_type": "stream",
     "text": [
      "Downloading manifest: 100%|██████████| 2.53k/2.53k [00:00<00:00, 2.78kB/s]\n",
      "Loading manifest: 100%|██████████| 10/10 [00:00<00:00, 9.31k/s]\n"
     ]
    }
   ],
   "source": [
    "p = quilt3.Package.browse(\"glue/test-schemas\", registry=\"s3://quilt-bio-instrument\")"
   ]
  },
  {
   "cell_type": "code",
   "execution_count": 4,
   "metadata": {},
   "outputs": [
    {
     "data": {
      "text/plain": [
       "(remote Package)\n",
       " └─s1/\n",
       "   └─03f817b6_cell_metadata-s1.parquet\n",
       " └─s2/\n",
       "   └─1e7e498b_image_object_counts-s2.parquet\n",
       " └─s3/\n",
       "   └─data-s3.parquet\n",
       " └─s4/\n",
       "   └─metadata1-s4.parquet\n",
       " └─s5/\n",
       "   └─metadata-s5.parquet\n",
       "   └─metadata4-s5.parquet\n",
       " └─s6/\n",
       "   └─feats-s6.parquet\n",
       " └─s7/\n",
       "   └─metadata3-s7.parquet\n",
       " └─s8/\n",
       "   └─metadata2-s8.parquet"
      ]
     },
     "execution_count": 4,
     "metadata": {},
     "output_type": "execute_result"
    }
   ],
   "source": [
    "p"
   ]
  },
  {
   "cell_type": "code",
   "execution_count": 6,
   "metadata": {},
   "outputs": [
    {
     "name": "stderr",
     "output_type": "stream",
     "text": [
      "Copying objects: 100%|██████████| 8.79M/8.79M [00:01<00:00, 6.45MB/s]\n"
     ]
    },
    {
     "name": "stdout",
     "output_type": "stream",
     "text": [
      "Package glue/test-schemas@cd43450 pushed to s3://quilt-bio-staging\n",
      "Successfully pushed the new package to https://quilt-t4-staging.quiltdata.com/b/quilt-bio-staging/packages/glue/test-schemas\n"
     ]
    },
    {
     "data": {
      "text/plain": [
       "(remote Package)\n",
       " └─s1/\n",
       "   └─03f817b6_cell_metadata-s1.parquet\n",
       " └─s2/\n",
       "   └─1e7e498b_image_object_counts-s2.parquet\n",
       " └─s3/\n",
       "   └─data-s3.parquet\n",
       " └─s4/\n",
       "   └─metadata1-s4.parquet\n",
       " └─s5/\n",
       "   └─metadata-s5.parquet\n",
       "   └─metadata4-s5.parquet\n",
       " └─s6/\n",
       "   └─feats-s6.parquet\n",
       " └─s7/\n",
       "   └─metadata3-s7.parquet\n",
       " └─s8/\n",
       "   └─metadata2-s8.parquet"
      ]
     },
     "execution_count": 6,
     "metadata": {},
     "output_type": "execute_result"
    }
   ],
   "source": [
    "p.push(\"glue/test-schemas\", registry=\"s3://quilt-bio-staging\", workflow=None)"
   ]
  },
  {
   "cell_type": "code",
   "execution_count": 10,
   "metadata": {},
   "outputs": [
    {
     "name": "stdout",
     "output_type": "stream",
     "text": [
      "env: AWS_PROFILE=staging\n"
     ]
    }
   ],
   "source": [
    "%env AWS_PROFILE=staging"
   ]
  },
  {
   "cell_type": "code",
   "execution_count": 11,
   "metadata": {},
   "outputs": [
    {
     "name": "stdout",
     "output_type": "stream",
     "text": [
      "2021-08-03 20:33:13     349010 glue/test-schemas/s1/03f817b6_cell_metadata-s1.parquet\r\n",
      "2021-08-03 20:33:13      49693 glue/test-schemas/s2/1e7e498b_image_object_counts-s2.parquet\r\n",
      "2021-08-03 20:33:13    4085504 glue/test-schemas/s3/data-s3.parquet\r\n",
      "2021-08-03 20:33:13       2693 glue/test-schemas/s4/metadata1-s4.parquet\r\n",
      "2021-08-03 20:33:13      17580 glue/test-schemas/s5/metadata-s5.parquet\r\n",
      "2021-08-03 20:33:13      18855 glue/test-schemas/s5/metadata4-s5.parquet\r\n",
      "2021-08-03 20:33:13    4249276 glue/test-schemas/s6/feats-s6.parquet\r\n",
      "2021-08-03 20:33:13       4119 glue/test-schemas/s7/metadata3-s7.parquet\r\n",
      "2021-08-03 20:33:13      14196 glue/test-schemas/s8/metadata2-s8.parquet\r\n"
     ]
    }
   ],
   "source": [
    "!aws s3 ls s3://quilt-bio-staging/glue/test-schemas/ --recursive"
   ]
  },
  {
   "cell_type": "code",
   "execution_count": null,
   "metadata": {},
   "outputs": [],
   "source": []
  }
 ],
 "metadata": {
  "kernelspec": {
   "display_name": "Python 3",
   "language": "python",
   "name": "python3"
  },
  "language_info": {
   "codemirror_mode": {
    "name": "ipython",
    "version": 3
   },
   "file_extension": ".py",
   "mimetype": "text/x-python",
   "name": "python",
   "nbconvert_exporter": "python",
   "pygments_lexer": "ipython3",
   "version": "3.7.8"
  }
 },
 "nbformat": 4,
 "nbformat_minor": 2
}
