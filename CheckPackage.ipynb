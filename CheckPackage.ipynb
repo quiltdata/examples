{
 "cells": [
  {
   "cell_type": "markdown",
   "id": "da2c87d0",
   "metadata": {},
   "source": [
    "# Iterate and check the backing objects of a `quilt3` Package"
   ]
  },
  {
   "cell_type": "code",
   "execution_count": 15,
   "id": "5f8ec3b0",
   "metadata": {},
   "outputs": [],
   "source": [
    "from urllib.parse import urlparse\n",
    "\n",
    "import boto3 as b3\n",
    "import quilt3 as q3"
   ]
  },
  {
   "cell_type": "code",
   "execution_count": 5,
   "id": "00054ac3",
   "metadata": {},
   "outputs": [],
   "source": [
    "s3 = b3.client(\"s3\")"
   ]
  },
  {
   "cell_type": "code",
   "execution_count": 6,
   "id": "7de725e1",
   "metadata": {},
   "outputs": [
    {
     "name": "stderr",
     "output_type": "stream",
     "text": [
      "Loading manifest: 100%|███████████████████████| 4405/4405 [00:00<00:00, 60.2k/s]\n"
     ]
    }
   ],
   "source": [
    "p = q3.Package.browse(\"aics/hipsc_single_m1_cell_image_dataset\", registry=\"s3://allencell\")"
   ]
  },
  {
   "cell_type": "code",
   "execution_count": 20,
   "id": "bbf895a4",
   "metadata": {},
   "outputs": [],
   "source": [
    "def head_entry(e):\n",
    "    pkey = e.get()\n",
    "    # ParseResult(scheme='s3', netloc='allencell', path='/aics/hipsc_single_m1_cell_image_dataset/README.md', params='', query='versionId=VRRCvZ8QqUpazBQH5FFib0qX6KDUELa9', fragment='')\n",
    "    parsed = urlparse(pkey)\n",
    "    vid = parsed.query.partition('=')[-1]\n",
    "    \n",
    "    return s3.head_object(\n",
    "        Bucket=parsed.netloc,\n",
    "        VersionId = vid,\n",
    "        # skip the leading /\n",
    "        Key=parsed.path[1:]\n",
    "    )"
   ]
  },
  {
   "cell_type": "code",
   "execution_count": null,
   "id": "8a0bf20f",
   "metadata": {},
   "outputs": [],
   "source": [
    "for _, e in p.walk():\n",
    "    response = head_entry(e)\n",
    "    if response.get('HTTPStatusCode') != 200:\n",
    "        print response"
   ]
  }
 ],
 "metadata": {
  "kernelspec": {
   "display_name": "Python 3 (ipykernel)",
   "language": "python",
   "name": "python3"
  },
  "language_info": {
   "codemirror_mode": {
    "name": "ipython",
    "version": 3
   },
   "file_extension": ".py",
   "mimetype": "text/x-python",
   "name": "python",
   "nbconvert_exporter": "python",
   "pygments_lexer": "ipython3",
   "version": "3.9.16"
  }
 },
 "nbformat": 4,
 "nbformat_minor": 5
}
