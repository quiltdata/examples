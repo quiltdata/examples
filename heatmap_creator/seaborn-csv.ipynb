{
 "cells": [
  {
   "cell_type": "code",
   "execution_count": null,
   "id": "4810a83d-7c21-48c9-b55d-12a6de6f70f9",
   "metadata": {},
   "outputs": [],
   "source": [
    "import pandas as pd\n",
    "import seaborn as sns\n",
    "from matplotlib import pyplot as plt\n",
    "import scipy"
   ]
  },
  {
   "cell_type": "code",
   "execution_count": null,
   "id": "d7665809-738d-424c-a44a-8ea7470b6320",
   "metadata": {},
   "outputs": [],
   "source": [
    "# Import the data\n",
    "df = pd.read_csv ('data/vanden_counts.csv')"
   ]
  },
  {
   "cell_type": "code",
   "execution_count": null,
   "id": "35054444-5079-4573-b966-c6a8d0619c51",
   "metadata": {},
   "outputs": [],
   "source": [
    "# The subset of genes Liz is interested in\n",
    "genes = [\n",
    "    \"AHRR\", \"CD27\", \"CYP1A1\", \"MYO6\", \"SLC24A3\", \n",
    "    \"TIPARP\", \"HIC1\", \"ITGB3\", \"BEND7\", \"DLG5\", \n",
    "    \"PLXDC2\", \"PRR18\", \"RND2\", \"SHF\", \"STAP2\", \n",
    "    \"FSCN2\", \"REEP2\", \"PACSIN3\", \"SEMA6B\", \"GPR160\", \n",
    "    \"PHLDA1\", \"CYP1B1\", \"ARL4C\", \"CD93\", \"STEAP4\",\n",
    "    \"ITGA1\", \"EREG\", \"KIF5A\", \"ASB2\", \"SLC35G5\", \n",
    "    \"BIK\", \"RARRES2\", \"SFN\", \"SHISA8\", \"GRIN2D\", \n",
    "    \"SNORA5A\", \"GPR68\", \"TMPRSS9\", \"MTFR2\", \"CLNK\", \n",
    "    \"MYO7B\", \"CLCN2\", \"SHISA4\", \"SATB2\", \"ADAM11\"\n",
    "]"
   ]
  },
  {
   "cell_type": "code",
   "execution_count": null,
   "id": "96aae679-3037-4108-98c4-93499b853309",
   "metadata": {},
   "outputs": [],
   "source": [
    "df = df.loc[df['ID'].isin(genes)]"
   ]
  },
  {
   "cell_type": "code",
   "execution_count": null,
   "id": "72b7386a-b52b-4445-8a8d-5fc29e0b8481",
   "metadata": {},
   "outputs": [],
   "source": [
    "df = df.set_index('ID')"
   ]
  },
  {
   "cell_type": "code",
   "execution_count": null,
   "id": "b50de53d-6430-488d-8724-22f879dab24e",
   "metadata": {},
   "outputs": [],
   "source": [
    "df.head()"
   ]
  },
  {
   "cell_type": "code",
   "execution_count": null,
   "id": "6c79d4f3-1661-4842-a08c-26cbc3aac8c0",
   "metadata": {},
   "outputs": [],
   "source": [
    "cluster_map = sns.clustermap(df)"
   ]
  },
  {
   "cell_type": "code",
   "execution_count": null,
   "id": "a6eb2a3d-dada-4f2f-b8e0-04b1848c010c",
   "metadata": {},
   "outputs": [],
   "source": [
    "cluster_map.savefig(\"output.png\")"
   ]
  }
 ],
 "metadata": {
  "kernelspec": {
   "display_name": "Python 3 (ipykernel)",
   "language": "python",
   "name": "python3"
  },
  "language_info": {
   "codemirror_mode": {
    "name": "ipython",
    "version": 3
   },
   "file_extension": ".py",
   "mimetype": "text/x-python",
   "name": "python",
   "nbconvert_exporter": "python",
   "pygments_lexer": "ipython3",
   "version": "3.10.8"
  }
 },
 "nbformat": 4,
 "nbformat_minor": 5
}
