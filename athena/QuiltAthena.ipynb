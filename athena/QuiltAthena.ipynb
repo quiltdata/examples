{
 "cells": [
  {
   "cell_type": "markdown",
   "metadata": {},
   "source": [
    "## Select your AWS Profile"
   ]
  },
  {
   "cell_type": "code",
   "execution_count": 2,
   "metadata": {
    "code_folding": []
   },
   "outputs": [
    {
     "name": "stdout",
     "output_type": "stream",
     "text": [
      "env: AWS_PROFILE=staging\n"
     ]
    }
   ],
   "source": [
    "%env AWS_PROFILE=staging"
   ]
  },
  {
   "cell_type": "code",
   "execution_count": 3,
   "metadata": {},
   "outputs": [],
   "source": [
    "import hashlib\n",
    "import json\n",
    "\n",
    "import boto3\n",
    "import pandas as pd"
   ]
  },
  {
   "cell_type": "markdown",
   "metadata": {},
   "source": [
    "## Util functions"
   ]
  },
  {
   "cell_type": "code",
   "execution_count": 4,
   "metadata": {},
   "outputs": [],
   "source": [
    "def transform_entry(var_char_value, col_type):\n",
    "    if col_type == \"varchar\":\n",
    "        return var_char_value\n",
    "    elif col_type == \"date\":\n",
    "        # TODO: Parse date correctly?\n",
    "        return var_char_value\n",
    "    elif col_type == \"integer\":\n",
    "        return int(var_char_value)\n",
    "    elif col_type == \"bigint\":\n",
    "        return int(var_char_value)\n",
    "    elif col_type == \"double\":\n",
    "        return float(var_char_value)\n",
    "    elif col_type == \"json\":\n",
    "        # return json.dumps(var_char_value)\n",
    "        return var_char_value\n",
    "    else:\n",
    "        raise NotImplementedError(f\"Don't know how to parse {col_type}\")\n",
    "        \n",
    "def extract_table(response):\n",
    "    column_info_list = response['ResultSet']['ResultSetMetadata']['ColumnInfo']\n",
    "    col_headers = [c['Name'] for c in column_info_list]\n",
    "    col_types = [c['Type'] for c in column_info_list]\n",
    "    rows = []\n",
    "    for i, raw_row in enumerate(response['ResultSet']['Rows']):\n",
    "        if i == 0:\n",
    "            continue # skip header row\n",
    "        row = []\n",
    "        for i, col in enumerate(raw_row['Data']):\n",
    "            col_type = col_types[i]\n",
    "            row.append(transform_entry(col.get('VarCharValue'), col_type))\n",
    "        rows.append(row)\n",
    "\n",
    "    return col_headers, rows\n",
    "\n",
    "def table_to_df(col_headers, rows):\n",
    "    num_cols = len(col_headers)\n",
    "    cols = [[] for _ in range(num_cols)]\n",
    "    for row in rows:\n",
    "        for i in range(num_cols):\n",
    "            try:\n",
    "                row_i = row[i]\n",
    "                cols[i].append(row_i)\n",
    "            except IndexError:\n",
    "                cols[i].append(None)\n",
    "    results = {}\n",
    "    for i, col_header in enumerate(col_headers):\n",
    "        results[col_header] = cols[i]\n",
    "    return pd.DataFrame(results)\n",
    "\n",
    "# TODO: use a waiter instead?\n",
    "def wait_for_query_to_complete(query_execution_id):\n",
    "    client = get_athena_client()\n",
    "    while True:\n",
    "        response = client.get_query_execution(QueryExecutionId=query_execution_id)\n",
    "        status = response[\"QueryExecution\"][\"Status\"][\"State\"]\n",
    "        if status in [\"SUCCEEDED\", \"FAILED\", \"CANCELLED\"]:\n",
    "            return status\n",
    "        time.sleep(1)\n",
    "\n",
    "def describe_query_execution_performance(query_execution_id):\n",
    "    response = get_athena_client().get_query_execution(QueryExecutionId=query_execution_id)\n",
    "    status = response[\"QueryExecution\"][\"Status\"][\"State\"] == \"SUCCEEDED\"\n",
    "    assert status, f\"Query must have succeeded to get performance numbers. Query is currently {status}\"\n",
    "    stats = response[\"QueryExecution\"][\"Statistics\"]\n",
    "    return stats[\"EngineExecutionTimeInMillis\"], stats[\"DataScannedInBytes\"]"
   ]
  },
  {
   "cell_type": "markdown",
   "metadata": {},
   "source": [
    "## Holla at Athena"
   ]
  },
  {
   "cell_type": "code",
   "execution_count": 5,
   "metadata": {},
   "outputs": [],
   "source": [
    "athena = boto3.client(\"athena\")"
   ]
  },
  {
   "cell_type": "markdown",
   "metadata": {},
   "source": [
    "## Your SQL"
   ]
  },
  {
   "cell_type": "code",
   "execution_count": 6,
   "metadata": {},
   "outputs": [],
   "source": [
    "query = (\n",
    "    \"\"\"\n",
    "    WITH\n",
    "      hashes as (\n",
    "        -- each bucket has its own manifests table, this is my staging bucket\n",
    "        -- the first bit of code is just to exract the package hash\n",
    "        SELECT element_at(slice(split(\"$path\", '/'), -1, 1), 1) as hash, user_meta FROM manifests_bio_staging\n",
    "        -- look for particular metadata facet value\n",
    "        -- version='v0' is just to help the query optimizer; we only need the first line of the manifest\n",
    "        WHERE json_extract_scalar(user_meta, '$.owner') LIKE 'Kevin%' and version='v0'\n",
    "      ),\n",
    "      named_hashes as (\n",
    "        -- this table is created by quilt in the database BUCKET_analyticsbucket_GUID\n",
    "        SELECT * FROM \"quilt_t4_staging_analyticsbucket_1bmma65zlcfa1\".\"package_hashes\"\n",
    "      )\n",
    "\n",
    "    SELECT *\n",
    "    FROM hashes\n",
    "    JOIN named_hashes ON hashes.\"hash\"=named_hashes.\"hash\"\n",
    "    \"\"\"\n",
    ")"
   ]
  },
  {
   "cell_type": "markdown",
   "metadata": {},
   "source": [
    "## Hash query for idempotent execution"
   ]
  },
  {
   "cell_type": "code",
   "execution_count": 7,
   "metadata": {},
   "outputs": [
    {
     "data": {
      "text/plain": [
       "'641d534f8dc59b32231031f52918660e24df1f68933084e30fd374f426dfb0d1'"
      ]
     },
     "execution_count": 7,
     "metadata": {},
     "output_type": "execute_result"
    }
   ],
   "source": [
    "qid = hashlib.sha256(query.encode()).hexdigest()\n",
    "qid"
   ]
  },
  {
   "cell_type": "code",
   "execution_count": 8,
   "metadata": {},
   "outputs": [],
   "source": [
    "xid = athena.start_query_execution(\n",
    "    QueryString=query,\n",
    "    # QEC is the database\n",
    "    QueryExecutionContext={\n",
    "        \"Database\": \"default\"\n",
    "    },\n",
    "    ResultConfiguration={\n",
    "        \"OutputLocation\": \"s3://aws-athena-query-results-712023778557-us-east-1/\",\n",
    "    }\n",
    ")"
   ]
  },
  {
   "cell_type": "code",
   "execution_count": 9,
   "metadata": {},
   "outputs": [
    {
     "data": {
      "text/plain": [
       "{'QueryExecutionId': '49583562-17d0-4270-bc47-e23e64ac5092',\n",
       " 'ResponseMetadata': {'RequestId': '035b2ca4-98d0-4ab1-a760-314665d2447e',\n",
       "  'HTTPStatusCode': 200,\n",
       "  'HTTPHeaders': {'content-type': 'application/x-amz-json-1.1',\n",
       "   'date': 'Tue, 01 Feb 2022 01:53:25 GMT',\n",
       "   'x-amzn-requestid': '035b2ca4-98d0-4ab1-a760-314665d2447e',\n",
       "   'content-length': '59',\n",
       "   'connection': 'keep-alive'},\n",
       "  'RetryAttempts': 0}}"
      ]
     },
     "execution_count": 9,
     "metadata": {},
     "output_type": "execute_result"
    }
   ],
   "source": [
    "xid"
   ]
  },
  {
   "cell_type": "markdown",
   "metadata": {},
   "source": [
    "## Check on async execution\n",
    "* TODO sometimes response may be truncated and you need to paginate"
   ]
  },
  {
   "cell_type": "code",
   "execution_count": 10,
   "metadata": {},
   "outputs": [
    {
     "data": {
      "text/plain": [
       "'SUCCEEDED'"
      ]
     },
     "execution_count": 10,
     "metadata": {},
     "output_type": "execute_result"
    }
   ],
   "source": [
    "status = athena.get_query_execution(QueryExecutionId=xid['QueryExecutionId'])\n",
    "status['QueryExecution']['Status']['State']"
   ]
  },
  {
   "cell_type": "code",
   "execution_count": 11,
   "metadata": {},
   "outputs": [],
   "source": [
    "results = athena.get_query_results(\n",
    "    QueryExecutionId=xid['QueryExecutionId']\n",
    ")"
   ]
  },
  {
   "cell_type": "code",
   "execution_count": 12,
   "metadata": {
    "scrolled": true
   },
   "outputs": [
    {
     "data": {
      "text/plain": [
       "{'RequestId': '9cedaf20-e9ae-4549-8da7-b35c47af1aa1',\n",
       " 'HTTPStatusCode': 200,\n",
       " 'HTTPHeaders': {'content-type': 'application/x-amz-json-1.1',\n",
       "  'date': 'Tue, 01 Feb 2022 01:53:39 GMT',\n",
       "  'x-amzn-requestid': '9cedaf20-e9ae-4549-8da7-b35c47af1aa1',\n",
       "  'content-length': '51028',\n",
       "  'connection': 'keep-alive'},\n",
       " 'RetryAttempts': 0}"
      ]
     },
     "execution_count": 12,
     "metadata": {},
     "output_type": "execute_result"
    }
   ],
   "source": [
    "results['ResponseMetadata']"
   ]
  },
  {
   "cell_type": "markdown",
   "metadata": {},
   "source": [
    "## Results as dataframe"
   ]
  },
  {
   "cell_type": "code",
   "execution_count": 13,
   "metadata": {},
   "outputs": [
    {
     "data": {
      "text/html": [
       "<div>\n",
       "<style scoped>\n",
       "    .dataframe tbody tr th:only-of-type {\n",
       "        vertical-align: middle;\n",
       "    }\n",
       "\n",
       "    .dataframe tbody tr th {\n",
       "        vertical-align: top;\n",
       "    }\n",
       "\n",
       "    .dataframe thead th {\n",
       "        text-align: right;\n",
       "    }\n",
       "</style>\n",
       "<table border=\"1\" class=\"dataframe\">\n",
       "  <thead>\n",
       "    <tr style=\"text-align: right;\">\n",
       "      <th></th>\n",
       "      <th>hash</th>\n",
       "      <th>user_meta</th>\n",
       "      <th>bucket</th>\n",
       "      <th>name</th>\n",
       "    </tr>\n",
       "  </thead>\n",
       "  <tbody>\n",
       "    <tr>\n",
       "      <th>0</th>\n",
       "      <td>091db004214d84593e6189610d46749d1505341bcc84ae...</td>\n",
       "      <td>{\"owner\":\"Kevin Moore\",\"date\":\"2021-02-01\",\"na...</td>\n",
       "      <td>quilt-bio-staging</td>\n",
       "      <td>aneeshtemp/virdemo</td>\n",
       "    </tr>\n",
       "    <tr>\n",
       "      <th>1</th>\n",
       "      <td>6bdc974c7e1cb706b075e18070b496ab7127c72633ebd3...</td>\n",
       "      <td>{\"owner\":\"Kevin Moore\",\"date\":\"2048-12-12\",\"st...</td>\n",
       "      <td>quilt-bio-staging</td>\n",
       "      <td>fiskus/test</td>\n",
       "    </tr>\n",
       "    <tr>\n",
       "      <th>2</th>\n",
       "      <td>ef2a874a79ae61db01ae7d568b48c6e2689bcce1d913a7...</td>\n",
       "      <td>{\"owner\":\"Kevin Moore\",\"date\":\"2049-01-01\",\"no...</td>\n",
       "      <td>quilt-bio-staging</td>\n",
       "      <td>fiskus/sandbox</td>\n",
       "    </tr>\n",
       "    <tr>\n",
       "      <th>3</th>\n",
       "      <td>dfb5862eae8497997b2764338e7fcc09f0daf6f95e1b61...</td>\n",
       "      <td>{\"owner\":\"Kevin Moore\",\"date\":\"2021-11-04\",\"na...</td>\n",
       "      <td>quilt-bio-staging</td>\n",
       "      <td>kevin/tome</td>\n",
       "    </tr>\n",
       "    <tr>\n",
       "      <th>4</th>\n",
       "      <td>d6e8795a3f37ae7b53a7c92ddb35a09653decfb93c6dc0...</td>\n",
       "      <td>{\"owner\":\"Kevin Moore\",\"date\":\"2049-01-01\",\"no...</td>\n",
       "      <td>quilt-bio-staging</td>\n",
       "      <td>fiskus/2020-12-01</td>\n",
       "    </tr>\n",
       "    <tr>\n",
       "      <th>...</th>\n",
       "      <td>...</td>\n",
       "      <td>...</td>\n",
       "      <td>...</td>\n",
       "      <td>...</td>\n",
       "    </tr>\n",
       "    <tr>\n",
       "      <th>56</th>\n",
       "      <td>a320436781b0d8bc48312870ca73d36ed03ea7c1a42b73...</td>\n",
       "      <td>{\"owner\":\"Kevin Moore\",\"date\":\"2077-13-32\",\"na...</td>\n",
       "      <td>quilt-bio-staging</td>\n",
       "      <td>akarve/crispr</td>\n",
       "    </tr>\n",
       "    <tr>\n",
       "      <th>57</th>\n",
       "      <td>3df066ed2becf2b572db2ef944c63679bd98d30e5d23a4...</td>\n",
       "      <td>{\"owner\":\"Kevin Moore\",\"date\":\"2020-12-12\",\"a\"...</td>\n",
       "      <td>quilt-bio-staging</td>\n",
       "      <td>fiskus/2020-11-17</td>\n",
       "    </tr>\n",
       "    <tr>\n",
       "      <th>58</th>\n",
       "      <td>2bddfa73e6abf319ae24847fe84fbba5a73594e1ac1613...</td>\n",
       "      <td>{\"owner\":\"Kevin Moore\",\"date\":\"2049-01-01\",\"no...</td>\n",
       "      <td>quilt-bio-staging</td>\n",
       "      <td>fiskus/2020-12-04</td>\n",
       "    </tr>\n",
       "    <tr>\n",
       "      <th>59</th>\n",
       "      <td>e0378399e8bb7763fca3e4985406bd1ef4e11609b0feed...</td>\n",
       "      <td>{\"owner\":\"Kevin Moore\",\"date\":\"2020-11-16\",\"na...</td>\n",
       "      <td>quilt-bio-staging</td>\n",
       "      <td>akarve/rhtml</td>\n",
       "    </tr>\n",
       "    <tr>\n",
       "      <th>60</th>\n",
       "      <td>51bc178b5b70d3f495cfb1d5e378ecf229114d78e307de...</td>\n",
       "      <td>{\"owner\":\"Kevin Moore\",\"date\":\"2049-01-01\",\"no...</td>\n",
       "      <td>quilt-bio-staging</td>\n",
       "      <td>fiskus/2020-12-02-production</td>\n",
       "    </tr>\n",
       "  </tbody>\n",
       "</table>\n",
       "<p>61 rows × 4 columns</p>\n",
       "</div>"
      ],
      "text/plain": [
       "                                                 hash  \\\n",
       "0   091db004214d84593e6189610d46749d1505341bcc84ae...   \n",
       "1   6bdc974c7e1cb706b075e18070b496ab7127c72633ebd3...   \n",
       "2   ef2a874a79ae61db01ae7d568b48c6e2689bcce1d913a7...   \n",
       "3   dfb5862eae8497997b2764338e7fcc09f0daf6f95e1b61...   \n",
       "4   d6e8795a3f37ae7b53a7c92ddb35a09653decfb93c6dc0...   \n",
       "..                                                ...   \n",
       "56  a320436781b0d8bc48312870ca73d36ed03ea7c1a42b73...   \n",
       "57  3df066ed2becf2b572db2ef944c63679bd98d30e5d23a4...   \n",
       "58  2bddfa73e6abf319ae24847fe84fbba5a73594e1ac1613...   \n",
       "59  e0378399e8bb7763fca3e4985406bd1ef4e11609b0feed...   \n",
       "60  51bc178b5b70d3f495cfb1d5e378ecf229114d78e307de...   \n",
       "\n",
       "                                            user_meta             bucket  \\\n",
       "0   {\"owner\":\"Kevin Moore\",\"date\":\"2021-02-01\",\"na...  quilt-bio-staging   \n",
       "1   {\"owner\":\"Kevin Moore\",\"date\":\"2048-12-12\",\"st...  quilt-bio-staging   \n",
       "2   {\"owner\":\"Kevin Moore\",\"date\":\"2049-01-01\",\"no...  quilt-bio-staging   \n",
       "3   {\"owner\":\"Kevin Moore\",\"date\":\"2021-11-04\",\"na...  quilt-bio-staging   \n",
       "4   {\"owner\":\"Kevin Moore\",\"date\":\"2049-01-01\",\"no...  quilt-bio-staging   \n",
       "..                                                ...                ...   \n",
       "56  {\"owner\":\"Kevin Moore\",\"date\":\"2077-13-32\",\"na...  quilt-bio-staging   \n",
       "57  {\"owner\":\"Kevin Moore\",\"date\":\"2020-12-12\",\"a\"...  quilt-bio-staging   \n",
       "58  {\"owner\":\"Kevin Moore\",\"date\":\"2049-01-01\",\"no...  quilt-bio-staging   \n",
       "59  {\"owner\":\"Kevin Moore\",\"date\":\"2020-11-16\",\"na...  quilt-bio-staging   \n",
       "60  {\"owner\":\"Kevin Moore\",\"date\":\"2049-01-01\",\"no...  quilt-bio-staging   \n",
       "\n",
       "                            name  \n",
       "0             aneeshtemp/virdemo  \n",
       "1                    fiskus/test  \n",
       "2                 fiskus/sandbox  \n",
       "3                     kevin/tome  \n",
       "4              fiskus/2020-12-01  \n",
       "..                           ...  \n",
       "56                 akarve/crispr  \n",
       "57             fiskus/2020-11-17  \n",
       "58             fiskus/2020-12-04  \n",
       "59                  akarve/rhtml  \n",
       "60  fiskus/2020-12-02-production  \n",
       "\n",
       "[61 rows x 4 columns]"
      ]
     },
     "execution_count": 13,
     "metadata": {},
     "output_type": "execute_result"
    }
   ],
   "source": [
    "df = table_to_df(*extract_table(results))\n",
    "df"
   ]
  },
  {
   "cell_type": "code",
   "execution_count": 14,
   "metadata": {},
   "outputs": [
    {
     "data": {
      "text/plain": [
       "{'owner': 'Kevin Moore',\n",
       " 'date': '2021-02-01',\n",
       " 'name': 'Aneesh Karve',\n",
       " 'type': 'Flow Cytometry'}"
      ]
     },
     "execution_count": 14,
     "metadata": {},
     "output_type": "execute_result"
    }
   ],
   "source": [
    "sdict = df['user_meta'][0]\n",
    "import json\n",
    "ndict = json.loads(sdict)\n",
    "ndict"
   ]
  },
  {
   "cell_type": "code",
   "execution_count": null,
   "metadata": {},
   "outputs": [],
   "source": []
  }
 ],
 "metadata": {
  "kernelspec": {
   "display_name": "Python 3 (ipykernel)",
   "language": "python",
   "name": "python3"
  },
  "language_info": {
   "codemirror_mode": {
    "name": "ipython",
    "version": 3
   },
   "file_extension": ".py",
   "mimetype": "text/x-python",
   "name": "python",
   "nbconvert_exporter": "python",
   "pygments_lexer": "ipython3",
   "version": "3.9.0"
  }
 },
 "nbformat": 4,
 "nbformat_minor": 4
}
